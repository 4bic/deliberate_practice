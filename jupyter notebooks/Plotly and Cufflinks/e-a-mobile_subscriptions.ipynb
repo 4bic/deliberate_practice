{
 "cells": [
  {
   "cell_type": "markdown",
   "metadata": {},
   "source": [
    "# East Africa Mobile-cellular telephone subscriptions"
   ]
  },
  {
   "cell_type": "code",
   "execution_count": 4,
   "metadata": {
    "collapsed": true
   },
   "outputs": [],
   "source": [
    "import numpy as np\n",
    "import pandas as pd\n",
    "from plotly import __version__\n",
    "import cufflinks as cf\n",
    "\n",
    "# import js libraries\n",
    "from plotly.offline import download_plotlyjs,init_notebook_mode,plot,iplot\n",
    "\n",
    "%matplotlib inline"
   ]
  },
  {
   "cell_type": "code",
   "execution_count": 5,
   "metadata": {},
   "outputs": [
    {
     "data": {
      "text/html": [
       "<script>requirejs.config({paths: { 'plotly': ['https://cdn.plot.ly/plotly-latest.min']},});if(!window.Plotly) {{require(['plotly'],function(plotly) {window.Plotly=plotly;});}}</script>"
      ],
      "text/vnd.plotly.v1+html": [
       "<script>requirejs.config({paths: { 'plotly': ['https://cdn.plot.ly/plotly-latest.min']},});if(!window.Plotly) {{require(['plotly'],function(plotly) {window.Plotly=plotly;});}}</script>"
      ]
     },
     "metadata": {},
     "output_type": "display_data"
    }
   ],
   "source": [
    "# connect js to notebook\n",
    "init_notebook_mode(connected=True)"
   ]
  },
  {
   "cell_type": "code",
   "execution_count": 47,
   "metadata": {},
   "outputs": [
    {
     "name": "stderr",
     "output_type": "stream",
     "text": [
      "IOPub data rate exceeded.\n",
      "The notebook server will temporarily stop sending output\n",
      "to the client in order to avoid crashing it.\n",
      "To change this limit, set the config variable\n",
      "`--NotebookApp.iopub_data_rate_limit`.\n"
     ]
    }
   ],
   "source": [
    "cf.go_offline()"
   ]
  },
  {
   "cell_type": "code",
   "execution_count": 45,
   "metadata": {
    "collapsed": true
   },
   "outputs": [],
   "source": [
    "def prep_data():\n",
    "    \"\"\"\n",
    "    Read, Transpose, index and name columns\n",
    "    \"\"\"\n",
    "    df = pd.read_csv('/Users/4bic/projects/deliberate_practice/e-a_data/E-A_cellular_subscriptions.csv').T\n",
    "    df.rename(index=str, columns={0:'Kenya',1:'Sudan',\n",
    "                                  2:'Tanzania',3:'Uganda',\n",
    "                                  4:'Rwanda'},inplace=True)\n",
    "\n",
    "    df.drop(df.index[0],inplace=True)\n",
    "    \n",
    "    return df\n",
    "    \n",
    "data = prep_data()  "
   ]
  },
  {
   "cell_type": "code",
   "execution_count": null,
   "metadata": {},
   "outputs": [],
   "source": []
  },
  {
   "cell_type": "markdown",
   "metadata": {},
   "source": [
    "## Line Plot\n"
   ]
  },
  {
   "cell_type": "code",
   "execution_count": null,
   "metadata": {},
   "outputs": [
    {
     "data": {
      "text/plain": [
       "<matplotlib.axes._subplots.AxesSubplot at 0x10ed13b00>"
      ]
     },
     "execution_count": 58,
     "metadata": {},
     "output_type": "execute_result"
    }
   ],
   "source": [
    "data.plot()"
   ]
  },
  {
   "cell_type": "markdown",
   "metadata": {},
   "source": [
    "## Scatter Plot"
   ]
  },
  {
   "cell_type": "code",
   "execution_count": 12,
   "metadata": {},
   "outputs": [
    {
     "data": {
      "application/vnd.plotly.v1+json": {
       "data": [
        {
         "line": {
          "color": "rgba(255, 153, 51, 1.0)",
          "dash": "solid",
          "width": 1.3
         },
         "marker": {
          "size": 20,
          "symbol": "dot"
         },
         "mode": "markers",
         "name": "Kenya",
         "text": "",
         "type": "scatter",
         "x": [
          "2000",
          "2001",
          "2002",
          "2003",
          "2004",
          "2005",
          "2006",
          "2007",
          "2008",
          "2009",
          "2010",
          "2011",
          "2012",
          "2013",
          "2014",
          "2015",
          "2016"
         ],
         "y": [
          127404,
          600000,
          1187122,
          1590785,
          2546157,
          4611970,
          7340317,
          11349412,
          16303573,
          19364559,
          24968891,
          28080771,
          30731754,
          31830003,
          33632631,
          37715944,
          38982188
         ]
        },
        {
         "line": {
          "color": "rgba(55, 128, 191, 1.0)",
          "dash": "solid",
          "width": 1.3
         },
         "marker": {
          "size": 20,
          "symbol": "dot"
         },
         "mode": "markers",
         "name": "Sudan",
         "text": "",
         "type": "scatter",
         "x": [
          "2000",
          "2001",
          "2002",
          "2003",
          "2004",
          "2005",
          "2006",
          "2007",
          "2008",
          "2009",
          "2010",
          "2011",
          "2012",
          "2013",
          "2014",
          "2015",
          "2016"
         ],
         "y": [
          23000,
          103846,
          190778,
          527233,
          1048558,
          1827940,
          4683127,
          8218092,
          11991469,
          15339895,
          18093231,
          25056185,
          27658595,
          27657875,
          27796611,
          27938507,
          27807293
         ]
        },
        {
         "line": {
          "color": "rgba(50, 171, 96, 1.0)",
          "dash": "solid",
          "width": 1.3
         },
         "marker": {
          "size": 20,
          "symbol": "dot"
         },
         "mode": "markers",
         "name": "Tanzania",
         "text": "",
         "type": "scatter",
         "x": [
          "2000",
          "2001",
          "2002",
          "2003",
          "2004",
          "2005",
          "2006",
          "2007",
          "2008",
          "2009",
          "2010",
          "2011",
          "2012",
          "2013",
          "2014",
          "2015",
          "2016"
         ],
         "y": [
          110518,
          275560,
          606859,
          1298000,
          1942000,
          2964000,
          5609000,
          8252000,
          13006793,
          17469486,
          20983853,
          25666455,
          27219283,
          27442823,
          31862656,
          39665600,
          40044186
         ]
        },
        {
         "line": {
          "color": "rgba(128, 0, 128, 1.0)",
          "dash": "solid",
          "width": 1.3
         },
         "marker": {
          "size": 20,
          "symbol": "dot"
         },
         "mode": "markers",
         "name": "Uganda",
         "text": "",
         "type": "scatter",
         "x": [
          "2000",
          "2001",
          "2002",
          "2003",
          "2004",
          "2005",
          "2006",
          "2007",
          "2008",
          "2009",
          "2010",
          "2011",
          "2012",
          "2013",
          "2014",
          "2015",
          "2016"
         ],
         "y": [
          126913,
          283520,
          393310,
          776169,
          1165035,
          1315300,
          2008818,
          4195278,
          8554864,
          9383734,
          12828264,
          16696992,
          16356387,
          18068648,
          20365941,
          20220273,
          22838486
         ]
        },
        {
         "line": {
          "color": "rgba(219, 64, 82, 1.0)",
          "dash": "solid",
          "width": 1.3
         },
         "marker": {
          "size": 20,
          "symbol": "dot"
         },
         "mode": "markers",
         "name": "Rwanda",
         "text": "",
         "type": "scatter",
         "x": [
          "2000",
          "2001",
          "2002",
          "2003",
          "2004",
          "2005",
          "2006",
          "2007",
          "2008",
          "2009",
          "2010",
          "2011",
          "2012",
          "2013",
          "2014",
          "2015",
          "2016"
         ],
         "y": [
          39000,
          65000,
          82391,
          130720,
          137271,
          222978,
          314201,
          635137,
          1322637,
          2429252,
          3548761,
          4446194,
          5690751,
          6689158,
          7747019,
          8759619,
          8921533
         ]
        }
       ],
       "layout": {
        "legend": {
         "bgcolor": "#F5F6F9",
         "font": {
          "color": "#4D5663"
         }
        },
        "paper_bgcolor": "#F5F6F9",
        "plot_bgcolor": "#F5F6F9",
        "titlefont": {
         "color": "#4D5663"
        },
        "xaxis1": {
         "gridcolor": "#E1E5ED",
         "showgrid": true,
         "tickfont": {
          "color": "#4D5663"
         },
         "title": "",
         "titlefont": {
          "color": "#4D5663"
         },
         "zerolinecolor": "#E1E5ED"
        },
        "yaxis1": {
         "gridcolor": "#E1E5ED",
         "showgrid": true,
         "tickfont": {
          "color": "#4D5663"
         },
         "title": "",
         "titlefont": {
          "color": "#4D5663"
         },
         "zerolinecolor": "#E1E5ED"
        }
       }
      },
      "text/html": [
       "<div id=\"dc226391-ddb4-47df-8aa7-bc37caed4bfd\" style=\"height: 525px; width: 100%;\" class=\"plotly-graph-div\"></div><script type=\"text/javascript\">require([\"plotly\"], function(Plotly) { window.PLOTLYENV=window.PLOTLYENV || {};window.PLOTLYENV.BASE_URL=\"https://plot.ly\";Plotly.newPlot(\"dc226391-ddb4-47df-8aa7-bc37caed4bfd\", [{\"type\": \"scatter\", \"x\": [\"2000\", \"2001\", \"2002\", \"2003\", \"2004\", \"2005\", \"2006\", \"2007\", \"2008\", \"2009\", \"2010\", \"2011\", \"2012\", \"2013\", \"2014\", \"2015\", \"2016\"], \"y\": [127404, 600000, 1187122, 1590785, 2546157, 4611970, 7340317, 11349412, 16303573, 19364559, 24968891, 28080771, 30731754, 31830003, 33632631, 37715944, 38982188], \"name\": \"Kenya\", \"text\": \"\", \"line\": {\"color\": \"rgba(255, 153, 51, 1.0)\", \"width\": 1.3, \"dash\": \"solid\"}, \"mode\": \"markers\", \"marker\": {\"symbol\": \"dot\", \"size\": 20}}, {\"type\": \"scatter\", \"x\": [\"2000\", \"2001\", \"2002\", \"2003\", \"2004\", \"2005\", \"2006\", \"2007\", \"2008\", \"2009\", \"2010\", \"2011\", \"2012\", \"2013\", \"2014\", \"2015\", \"2016\"], \"y\": [23000, 103846, 190778, 527233, 1048558, 1827940, 4683127, 8218092, 11991469, 15339895, 18093231, 25056185, 27658595, 27657875, 27796611, 27938507, 27807293], \"name\": \"Sudan\", \"text\": \"\", \"line\": {\"color\": \"rgba(55, 128, 191, 1.0)\", \"width\": 1.3, \"dash\": \"solid\"}, \"mode\": \"markers\", \"marker\": {\"symbol\": \"dot\", \"size\": 20}}, {\"type\": \"scatter\", \"x\": [\"2000\", \"2001\", \"2002\", \"2003\", \"2004\", \"2005\", \"2006\", \"2007\", \"2008\", \"2009\", \"2010\", \"2011\", \"2012\", \"2013\", \"2014\", \"2015\", \"2016\"], \"y\": [110518, 275560, 606859, 1298000, 1942000, 2964000, 5609000, 8252000, 13006793, 17469486, 20983853, 25666455, 27219283, 27442823, 31862656, 39665600, 40044186], \"name\": \"Tanzania\", \"text\": \"\", \"line\": {\"color\": \"rgba(50, 171, 96, 1.0)\", \"width\": 1.3, \"dash\": \"solid\"}, \"mode\": \"markers\", \"marker\": {\"symbol\": \"dot\", \"size\": 20}}, {\"type\": \"scatter\", \"x\": [\"2000\", \"2001\", \"2002\", \"2003\", \"2004\", \"2005\", \"2006\", \"2007\", \"2008\", \"2009\", \"2010\", \"2011\", \"2012\", \"2013\", \"2014\", \"2015\", \"2016\"], \"y\": [126913, 283520, 393310, 776169, 1165035, 1315300, 2008818, 4195278, 8554864, 9383734, 12828264, 16696992, 16356387, 18068648, 20365941, 20220273, 22838486], \"name\": \"Uganda\", \"text\": \"\", \"line\": {\"color\": \"rgba(128, 0, 128, 1.0)\", \"width\": 1.3, \"dash\": \"solid\"}, \"mode\": \"markers\", \"marker\": {\"symbol\": \"dot\", \"size\": 20}}, {\"type\": \"scatter\", \"x\": [\"2000\", \"2001\", \"2002\", \"2003\", \"2004\", \"2005\", \"2006\", \"2007\", \"2008\", \"2009\", \"2010\", \"2011\", \"2012\", \"2013\", \"2014\", \"2015\", \"2016\"], \"y\": [39000, 65000, 82391, 130720, 137271, 222978, 314201, 635137, 1322637, 2429252, 3548761, 4446194, 5690751, 6689158, 7747019, 8759619, 8921533], \"name\": \"Rwanda\", \"text\": \"\", \"line\": {\"color\": \"rgba(219, 64, 82, 1.0)\", \"width\": 1.3, \"dash\": \"solid\"}, \"mode\": \"markers\", \"marker\": {\"symbol\": \"dot\", \"size\": 20}}], {\"legend\": {\"bgcolor\": \"#F5F6F9\", \"font\": {\"color\": \"#4D5663\"}}, \"paper_bgcolor\": \"#F5F6F9\", \"plot_bgcolor\": \"#F5F6F9\", \"yaxis1\": {\"tickfont\": {\"color\": \"#4D5663\"}, \"gridcolor\": \"#E1E5ED\", \"titlefont\": {\"color\": \"#4D5663\"}, \"zerolinecolor\": \"#E1E5ED\", \"showgrid\": true, \"title\": \"\"}, \"xaxis1\": {\"tickfont\": {\"color\": \"#4D5663\"}, \"gridcolor\": \"#E1E5ED\", \"titlefont\": {\"color\": \"#4D5663\"}, \"zerolinecolor\": \"#E1E5ED\", \"showgrid\": true, \"title\": \"\"}, \"titlefont\": {\"color\": \"#4D5663\"}}, {\"showLink\": true, \"linkText\": \"Export to plot.ly\"})});</script>"
      ],
      "text/vnd.plotly.v1+html": [
       "<div id=\"dc226391-ddb4-47df-8aa7-bc37caed4bfd\" style=\"height: 525px; width: 100%;\" class=\"plotly-graph-div\"></div><script type=\"text/javascript\">require([\"plotly\"], function(Plotly) { window.PLOTLYENV=window.PLOTLYENV || {};window.PLOTLYENV.BASE_URL=\"https://plot.ly\";Plotly.newPlot(\"dc226391-ddb4-47df-8aa7-bc37caed4bfd\", [{\"type\": \"scatter\", \"x\": [\"2000\", \"2001\", \"2002\", \"2003\", \"2004\", \"2005\", \"2006\", \"2007\", \"2008\", \"2009\", \"2010\", \"2011\", \"2012\", \"2013\", \"2014\", \"2015\", \"2016\"], \"y\": [127404, 600000, 1187122, 1590785, 2546157, 4611970, 7340317, 11349412, 16303573, 19364559, 24968891, 28080771, 30731754, 31830003, 33632631, 37715944, 38982188], \"name\": \"Kenya\", \"text\": \"\", \"line\": {\"color\": \"rgba(255, 153, 51, 1.0)\", \"width\": 1.3, \"dash\": \"solid\"}, \"mode\": \"markers\", \"marker\": {\"symbol\": \"dot\", \"size\": 20}}, {\"type\": \"scatter\", \"x\": [\"2000\", \"2001\", \"2002\", \"2003\", \"2004\", \"2005\", \"2006\", \"2007\", \"2008\", \"2009\", \"2010\", \"2011\", \"2012\", \"2013\", \"2014\", \"2015\", \"2016\"], \"y\": [23000, 103846, 190778, 527233, 1048558, 1827940, 4683127, 8218092, 11991469, 15339895, 18093231, 25056185, 27658595, 27657875, 27796611, 27938507, 27807293], \"name\": \"Sudan\", \"text\": \"\", \"line\": {\"color\": \"rgba(55, 128, 191, 1.0)\", \"width\": 1.3, \"dash\": \"solid\"}, \"mode\": \"markers\", \"marker\": {\"symbol\": \"dot\", \"size\": 20}}, {\"type\": \"scatter\", \"x\": [\"2000\", \"2001\", \"2002\", \"2003\", \"2004\", \"2005\", \"2006\", \"2007\", \"2008\", \"2009\", \"2010\", \"2011\", \"2012\", \"2013\", \"2014\", \"2015\", \"2016\"], \"y\": [110518, 275560, 606859, 1298000, 1942000, 2964000, 5609000, 8252000, 13006793, 17469486, 20983853, 25666455, 27219283, 27442823, 31862656, 39665600, 40044186], \"name\": \"Tanzania\", \"text\": \"\", \"line\": {\"color\": \"rgba(50, 171, 96, 1.0)\", \"width\": 1.3, \"dash\": \"solid\"}, \"mode\": \"markers\", \"marker\": {\"symbol\": \"dot\", \"size\": 20}}, {\"type\": \"scatter\", \"x\": [\"2000\", \"2001\", \"2002\", \"2003\", \"2004\", \"2005\", \"2006\", \"2007\", \"2008\", \"2009\", \"2010\", \"2011\", \"2012\", \"2013\", \"2014\", \"2015\", \"2016\"], \"y\": [126913, 283520, 393310, 776169, 1165035, 1315300, 2008818, 4195278, 8554864, 9383734, 12828264, 16696992, 16356387, 18068648, 20365941, 20220273, 22838486], \"name\": \"Uganda\", \"text\": \"\", \"line\": {\"color\": \"rgba(128, 0, 128, 1.0)\", \"width\": 1.3, \"dash\": \"solid\"}, \"mode\": \"markers\", \"marker\": {\"symbol\": \"dot\", \"size\": 20}}, {\"type\": \"scatter\", \"x\": [\"2000\", \"2001\", \"2002\", \"2003\", \"2004\", \"2005\", \"2006\", \"2007\", \"2008\", \"2009\", \"2010\", \"2011\", \"2012\", \"2013\", \"2014\", \"2015\", \"2016\"], \"y\": [39000, 65000, 82391, 130720, 137271, 222978, 314201, 635137, 1322637, 2429252, 3548761, 4446194, 5690751, 6689158, 7747019, 8759619, 8921533], \"name\": \"Rwanda\", \"text\": \"\", \"line\": {\"color\": \"rgba(219, 64, 82, 1.0)\", \"width\": 1.3, \"dash\": \"solid\"}, \"mode\": \"markers\", \"marker\": {\"symbol\": \"dot\", \"size\": 20}}], {\"legend\": {\"bgcolor\": \"#F5F6F9\", \"font\": {\"color\": \"#4D5663\"}}, \"paper_bgcolor\": \"#F5F6F9\", \"plot_bgcolor\": \"#F5F6F9\", \"yaxis1\": {\"tickfont\": {\"color\": \"#4D5663\"}, \"gridcolor\": \"#E1E5ED\", \"titlefont\": {\"color\": \"#4D5663\"}, \"zerolinecolor\": \"#E1E5ED\", \"showgrid\": true, \"title\": \"\"}, \"xaxis1\": {\"tickfont\": {\"color\": \"#4D5663\"}, \"gridcolor\": \"#E1E5ED\", \"titlefont\": {\"color\": \"#4D5663\"}, \"zerolinecolor\": \"#E1E5ED\", \"showgrid\": true, \"title\": \"\"}, \"titlefont\": {\"color\": \"#4D5663\"}}, {\"showLink\": true, \"linkText\": \"Export to plot.ly\"})});</script>"
      ]
     },
     "metadata": {},
     "output_type": "display_data"
    }
   ],
   "source": [
    "df.iplot(kind='scatter',mode='markers',size=20)"
   ]
  },
  {
   "cell_type": "markdown",
   "metadata": {},
   "source": [
    "## Bar Plot"
   ]
  },
  {
   "cell_type": "code",
   "execution_count": 13,
   "metadata": {},
   "outputs": [
    {
     "data": {
      "application/vnd.plotly.v1+json": {
       "data": [
        {
         "marker": {
          "color": "rgba(255, 153, 51, 0.6)",
          "line": {
           "color": "rgba(255, 153, 51, 1.0)",
           "width": 1
          }
         },
         "name": "Kenya",
         "orientation": "v",
         "text": "",
         "type": "bar",
         "x": [
          "2000",
          "2001",
          "2002",
          "2003",
          "2004",
          "2005",
          "2006",
          "2007",
          "2008",
          "2009",
          "2010",
          "2011",
          "2012",
          "2013",
          "2014",
          "2015",
          "2016"
         ],
         "y": [
          127404,
          600000,
          1187122,
          1590785,
          2546157,
          4611970,
          7340317,
          11349412,
          16303573,
          19364559,
          24968891,
          28080771,
          30731754,
          31830003,
          33632631,
          37715944,
          38982188
         ]
        },
        {
         "marker": {
          "color": "rgba(55, 128, 191, 0.6)",
          "line": {
           "color": "rgba(55, 128, 191, 1.0)",
           "width": 1
          }
         },
         "name": "Sudan",
         "orientation": "v",
         "text": "",
         "type": "bar",
         "x": [
          "2000",
          "2001",
          "2002",
          "2003",
          "2004",
          "2005",
          "2006",
          "2007",
          "2008",
          "2009",
          "2010",
          "2011",
          "2012",
          "2013",
          "2014",
          "2015",
          "2016"
         ],
         "y": [
          23000,
          103846,
          190778,
          527233,
          1048558,
          1827940,
          4683127,
          8218092,
          11991469,
          15339895,
          18093231,
          25056185,
          27658595,
          27657875,
          27796611,
          27938507,
          27807293
         ]
        },
        {
         "marker": {
          "color": "rgba(50, 171, 96, 0.6)",
          "line": {
           "color": "rgba(50, 171, 96, 1.0)",
           "width": 1
          }
         },
         "name": "Tanzania",
         "orientation": "v",
         "text": "",
         "type": "bar",
         "x": [
          "2000",
          "2001",
          "2002",
          "2003",
          "2004",
          "2005",
          "2006",
          "2007",
          "2008",
          "2009",
          "2010",
          "2011",
          "2012",
          "2013",
          "2014",
          "2015",
          "2016"
         ],
         "y": [
          110518,
          275560,
          606859,
          1298000,
          1942000,
          2964000,
          5609000,
          8252000,
          13006793,
          17469486,
          20983853,
          25666455,
          27219283,
          27442823,
          31862656,
          39665600,
          40044186
         ]
        },
        {
         "marker": {
          "color": "rgba(128, 0, 128, 0.6)",
          "line": {
           "color": "rgba(128, 0, 128, 1.0)",
           "width": 1
          }
         },
         "name": "Uganda",
         "orientation": "v",
         "text": "",
         "type": "bar",
         "x": [
          "2000",
          "2001",
          "2002",
          "2003",
          "2004",
          "2005",
          "2006",
          "2007",
          "2008",
          "2009",
          "2010",
          "2011",
          "2012",
          "2013",
          "2014",
          "2015",
          "2016"
         ],
         "y": [
          126913,
          283520,
          393310,
          776169,
          1165035,
          1315300,
          2008818,
          4195278,
          8554864,
          9383734,
          12828264,
          16696992,
          16356387,
          18068648,
          20365941,
          20220273,
          22838486
         ]
        },
        {
         "marker": {
          "color": "rgba(219, 64, 82, 0.6)",
          "line": {
           "color": "rgba(219, 64, 82, 1.0)",
           "width": 1
          }
         },
         "name": "Rwanda",
         "orientation": "v",
         "text": "",
         "type": "bar",
         "x": [
          "2000",
          "2001",
          "2002",
          "2003",
          "2004",
          "2005",
          "2006",
          "2007",
          "2008",
          "2009",
          "2010",
          "2011",
          "2012",
          "2013",
          "2014",
          "2015",
          "2016"
         ],
         "y": [
          39000,
          65000,
          82391,
          130720,
          137271,
          222978,
          314201,
          635137,
          1322637,
          2429252,
          3548761,
          4446194,
          5690751,
          6689158,
          7747019,
          8759619,
          8921533
         ]
        }
       ],
       "layout": {
        "legend": {
         "bgcolor": "#F5F6F9",
         "font": {
          "color": "#4D5663"
         }
        },
        "paper_bgcolor": "#F5F6F9",
        "plot_bgcolor": "#F5F6F9",
        "titlefont": {
         "color": "#4D5663"
        },
        "xaxis1": {
         "gridcolor": "#E1E5ED",
         "showgrid": true,
         "tickfont": {
          "color": "#4D5663"
         },
         "title": "",
         "titlefont": {
          "color": "#4D5663"
         },
         "zerolinecolor": "#E1E5ED"
        },
        "yaxis1": {
         "gridcolor": "#E1E5ED",
         "showgrid": true,
         "tickfont": {
          "color": "#4D5663"
         },
         "title": "",
         "titlefont": {
          "color": "#4D5663"
         },
         "zerolinecolor": "#E1E5ED"
        }
       }
      },
      "text/html": [
       "<div id=\"f7cfbb24-a551-4b5a-a259-cb2383d6c33f\" style=\"height: 525px; width: 100%;\" class=\"plotly-graph-div\"></div><script type=\"text/javascript\">require([\"plotly\"], function(Plotly) { window.PLOTLYENV=window.PLOTLYENV || {};window.PLOTLYENV.BASE_URL=\"https://plot.ly\";Plotly.newPlot(\"f7cfbb24-a551-4b5a-a259-cb2383d6c33f\", [{\"type\": \"bar\", \"x\": [\"2000\", \"2001\", \"2002\", \"2003\", \"2004\", \"2005\", \"2006\", \"2007\", \"2008\", \"2009\", \"2010\", \"2011\", \"2012\", \"2013\", \"2014\", \"2015\", \"2016\"], \"y\": [127404, 600000, 1187122, 1590785, 2546157, 4611970, 7340317, 11349412, 16303573, 19364559, 24968891, 28080771, 30731754, 31830003, 33632631, 37715944, 38982188], \"name\": \"Kenya\", \"text\": \"\", \"marker\": {\"color\": \"rgba(255, 153, 51, 0.6)\", \"line\": {\"color\": \"rgba(255, 153, 51, 1.0)\", \"width\": 1}}, \"orientation\": \"v\"}, {\"type\": \"bar\", \"x\": [\"2000\", \"2001\", \"2002\", \"2003\", \"2004\", \"2005\", \"2006\", \"2007\", \"2008\", \"2009\", \"2010\", \"2011\", \"2012\", \"2013\", \"2014\", \"2015\", \"2016\"], \"y\": [23000, 103846, 190778, 527233, 1048558, 1827940, 4683127, 8218092, 11991469, 15339895, 18093231, 25056185, 27658595, 27657875, 27796611, 27938507, 27807293], \"name\": \"Sudan\", \"text\": \"\", \"marker\": {\"color\": \"rgba(55, 128, 191, 0.6)\", \"line\": {\"color\": \"rgba(55, 128, 191, 1.0)\", \"width\": 1}}, \"orientation\": \"v\"}, {\"type\": \"bar\", \"x\": [\"2000\", \"2001\", \"2002\", \"2003\", \"2004\", \"2005\", \"2006\", \"2007\", \"2008\", \"2009\", \"2010\", \"2011\", \"2012\", \"2013\", \"2014\", \"2015\", \"2016\"], \"y\": [110518, 275560, 606859, 1298000, 1942000, 2964000, 5609000, 8252000, 13006793, 17469486, 20983853, 25666455, 27219283, 27442823, 31862656, 39665600, 40044186], \"name\": \"Tanzania\", \"text\": \"\", \"marker\": {\"color\": \"rgba(50, 171, 96, 0.6)\", \"line\": {\"color\": \"rgba(50, 171, 96, 1.0)\", \"width\": 1}}, \"orientation\": \"v\"}, {\"type\": \"bar\", \"x\": [\"2000\", \"2001\", \"2002\", \"2003\", \"2004\", \"2005\", \"2006\", \"2007\", \"2008\", \"2009\", \"2010\", \"2011\", \"2012\", \"2013\", \"2014\", \"2015\", \"2016\"], \"y\": [126913, 283520, 393310, 776169, 1165035, 1315300, 2008818, 4195278, 8554864, 9383734, 12828264, 16696992, 16356387, 18068648, 20365941, 20220273, 22838486], \"name\": \"Uganda\", \"text\": \"\", \"marker\": {\"color\": \"rgba(128, 0, 128, 0.6)\", \"line\": {\"color\": \"rgba(128, 0, 128, 1.0)\", \"width\": 1}}, \"orientation\": \"v\"}, {\"type\": \"bar\", \"x\": [\"2000\", \"2001\", \"2002\", \"2003\", \"2004\", \"2005\", \"2006\", \"2007\", \"2008\", \"2009\", \"2010\", \"2011\", \"2012\", \"2013\", \"2014\", \"2015\", \"2016\"], \"y\": [39000, 65000, 82391, 130720, 137271, 222978, 314201, 635137, 1322637, 2429252, 3548761, 4446194, 5690751, 6689158, 7747019, 8759619, 8921533], \"name\": \"Rwanda\", \"text\": \"\", \"marker\": {\"color\": \"rgba(219, 64, 82, 0.6)\", \"line\": {\"color\": \"rgba(219, 64, 82, 1.0)\", \"width\": 1}}, \"orientation\": \"v\"}], {\"legend\": {\"bgcolor\": \"#F5F6F9\", \"font\": {\"color\": \"#4D5663\"}}, \"paper_bgcolor\": \"#F5F6F9\", \"plot_bgcolor\": \"#F5F6F9\", \"yaxis1\": {\"tickfont\": {\"color\": \"#4D5663\"}, \"gridcolor\": \"#E1E5ED\", \"titlefont\": {\"color\": \"#4D5663\"}, \"zerolinecolor\": \"#E1E5ED\", \"showgrid\": true, \"title\": \"\"}, \"xaxis1\": {\"tickfont\": {\"color\": \"#4D5663\"}, \"gridcolor\": \"#E1E5ED\", \"titlefont\": {\"color\": \"#4D5663\"}, \"zerolinecolor\": \"#E1E5ED\", \"showgrid\": true, \"title\": \"\"}, \"titlefont\": {\"color\": \"#4D5663\"}}, {\"showLink\": true, \"linkText\": \"Export to plot.ly\"})});</script>"
      ],
      "text/vnd.plotly.v1+html": [
       "<div id=\"f7cfbb24-a551-4b5a-a259-cb2383d6c33f\" style=\"height: 525px; width: 100%;\" class=\"plotly-graph-div\"></div><script type=\"text/javascript\">require([\"plotly\"], function(Plotly) { window.PLOTLYENV=window.PLOTLYENV || {};window.PLOTLYENV.BASE_URL=\"https://plot.ly\";Plotly.newPlot(\"f7cfbb24-a551-4b5a-a259-cb2383d6c33f\", [{\"type\": \"bar\", \"x\": [\"2000\", \"2001\", \"2002\", \"2003\", \"2004\", \"2005\", \"2006\", \"2007\", \"2008\", \"2009\", \"2010\", \"2011\", \"2012\", \"2013\", \"2014\", \"2015\", \"2016\"], \"y\": [127404, 600000, 1187122, 1590785, 2546157, 4611970, 7340317, 11349412, 16303573, 19364559, 24968891, 28080771, 30731754, 31830003, 33632631, 37715944, 38982188], \"name\": \"Kenya\", \"text\": \"\", \"marker\": {\"color\": \"rgba(255, 153, 51, 0.6)\", \"line\": {\"color\": \"rgba(255, 153, 51, 1.0)\", \"width\": 1}}, \"orientation\": \"v\"}, {\"type\": \"bar\", \"x\": [\"2000\", \"2001\", \"2002\", \"2003\", \"2004\", \"2005\", \"2006\", \"2007\", \"2008\", \"2009\", \"2010\", \"2011\", \"2012\", \"2013\", \"2014\", \"2015\", \"2016\"], \"y\": [23000, 103846, 190778, 527233, 1048558, 1827940, 4683127, 8218092, 11991469, 15339895, 18093231, 25056185, 27658595, 27657875, 27796611, 27938507, 27807293], \"name\": \"Sudan\", \"text\": \"\", \"marker\": {\"color\": \"rgba(55, 128, 191, 0.6)\", \"line\": {\"color\": \"rgba(55, 128, 191, 1.0)\", \"width\": 1}}, \"orientation\": \"v\"}, {\"type\": \"bar\", \"x\": [\"2000\", \"2001\", \"2002\", \"2003\", \"2004\", \"2005\", \"2006\", \"2007\", \"2008\", \"2009\", \"2010\", \"2011\", \"2012\", \"2013\", \"2014\", \"2015\", \"2016\"], \"y\": [110518, 275560, 606859, 1298000, 1942000, 2964000, 5609000, 8252000, 13006793, 17469486, 20983853, 25666455, 27219283, 27442823, 31862656, 39665600, 40044186], \"name\": \"Tanzania\", \"text\": \"\", \"marker\": {\"color\": \"rgba(50, 171, 96, 0.6)\", \"line\": {\"color\": \"rgba(50, 171, 96, 1.0)\", \"width\": 1}}, \"orientation\": \"v\"}, {\"type\": \"bar\", \"x\": [\"2000\", \"2001\", \"2002\", \"2003\", \"2004\", \"2005\", \"2006\", \"2007\", \"2008\", \"2009\", \"2010\", \"2011\", \"2012\", \"2013\", \"2014\", \"2015\", \"2016\"], \"y\": [126913, 283520, 393310, 776169, 1165035, 1315300, 2008818, 4195278, 8554864, 9383734, 12828264, 16696992, 16356387, 18068648, 20365941, 20220273, 22838486], \"name\": \"Uganda\", \"text\": \"\", \"marker\": {\"color\": \"rgba(128, 0, 128, 0.6)\", \"line\": {\"color\": \"rgba(128, 0, 128, 1.0)\", \"width\": 1}}, \"orientation\": \"v\"}, {\"type\": \"bar\", \"x\": [\"2000\", \"2001\", \"2002\", \"2003\", \"2004\", \"2005\", \"2006\", \"2007\", \"2008\", \"2009\", \"2010\", \"2011\", \"2012\", \"2013\", \"2014\", \"2015\", \"2016\"], \"y\": [39000, 65000, 82391, 130720, 137271, 222978, 314201, 635137, 1322637, 2429252, 3548761, 4446194, 5690751, 6689158, 7747019, 8759619, 8921533], \"name\": \"Rwanda\", \"text\": \"\", \"marker\": {\"color\": \"rgba(219, 64, 82, 0.6)\", \"line\": {\"color\": \"rgba(219, 64, 82, 1.0)\", \"width\": 1}}, \"orientation\": \"v\"}], {\"legend\": {\"bgcolor\": \"#F5F6F9\", \"font\": {\"color\": \"#4D5663\"}}, \"paper_bgcolor\": \"#F5F6F9\", \"plot_bgcolor\": \"#F5F6F9\", \"yaxis1\": {\"tickfont\": {\"color\": \"#4D5663\"}, \"gridcolor\": \"#E1E5ED\", \"titlefont\": {\"color\": \"#4D5663\"}, \"zerolinecolor\": \"#E1E5ED\", \"showgrid\": true, \"title\": \"\"}, \"xaxis1\": {\"tickfont\": {\"color\": \"#4D5663\"}, \"gridcolor\": \"#E1E5ED\", \"titlefont\": {\"color\": \"#4D5663\"}, \"zerolinecolor\": \"#E1E5ED\", \"showgrid\": true, \"title\": \"\"}, \"titlefont\": {\"color\": \"#4D5663\"}}, {\"showLink\": true, \"linkText\": \"Export to plot.ly\"})});</script>"
      ]
     },
     "metadata": {},
     "output_type": "display_data"
    }
   ],
   "source": [
    "df.iplot(kind='bar')"
   ]
  },
  {
   "cell_type": "markdown",
   "metadata": {},
   "source": [
    "## Box Plot"
   ]
  },
  {
   "cell_type": "code",
   "execution_count": 14,
   "metadata": {},
   "outputs": [
    {
     "data": {
      "application/vnd.plotly.v1+json": {
       "data": [
        {
         "boxpoints": false,
         "line": {
          "width": 1.3
         },
         "marker": {
          "color": "rgba(255, 153, 51, 1.0)"
         },
         "name": "Kenya",
         "type": "box",
         "y": [
          127404,
          600000,
          1187122,
          1590785,
          2546157,
          4611970,
          7340317,
          11349412,
          16303573,
          19364559,
          24968891,
          28080771,
          30731754,
          31830003,
          33632631,
          37715944,
          38982188
         ]
        },
        {
         "boxpoints": false,
         "line": {
          "width": 1.3
         },
         "marker": {
          "color": "rgba(55, 128, 191, 1.0)"
         },
         "name": "Sudan",
         "type": "box",
         "y": [
          23000,
          103846,
          190778,
          527233,
          1048558,
          1827940,
          4683127,
          8218092,
          11991469,
          15339895,
          18093231,
          25056185,
          27658595,
          27657875,
          27796611,
          27938507,
          27807293
         ]
        },
        {
         "boxpoints": false,
         "line": {
          "width": 1.3
         },
         "marker": {
          "color": "rgba(50, 171, 96, 1.0)"
         },
         "name": "Tanzania",
         "type": "box",
         "y": [
          110518,
          275560,
          606859,
          1298000,
          1942000,
          2964000,
          5609000,
          8252000,
          13006793,
          17469486,
          20983853,
          25666455,
          27219283,
          27442823,
          31862656,
          39665600,
          40044186
         ]
        },
        {
         "boxpoints": false,
         "line": {
          "width": 1.3
         },
         "marker": {
          "color": "rgba(128, 0, 128, 1.0)"
         },
         "name": "Uganda",
         "type": "box",
         "y": [
          126913,
          283520,
          393310,
          776169,
          1165035,
          1315300,
          2008818,
          4195278,
          8554864,
          9383734,
          12828264,
          16696992,
          16356387,
          18068648,
          20365941,
          20220273,
          22838486
         ]
        },
        {
         "boxpoints": false,
         "line": {
          "width": 1.3
         },
         "marker": {
          "color": "rgba(219, 64, 82, 1.0)"
         },
         "name": "Rwanda",
         "type": "box",
         "y": [
          39000,
          65000,
          82391,
          130720,
          137271,
          222978,
          314201,
          635137,
          1322637,
          2429252,
          3548761,
          4446194,
          5690751,
          6689158,
          7747019,
          8759619,
          8921533
         ]
        }
       ],
       "layout": {
        "legend": {
         "bgcolor": "#F5F6F9",
         "font": {
          "color": "#4D5663"
         }
        },
        "paper_bgcolor": "#F5F6F9",
        "plot_bgcolor": "#F5F6F9",
        "titlefont": {
         "color": "#4D5663"
        },
        "xaxis1": {
         "gridcolor": "#E1E5ED",
         "showgrid": true,
         "tickfont": {
          "color": "#4D5663"
         },
         "title": "",
         "titlefont": {
          "color": "#4D5663"
         },
         "zerolinecolor": "#E1E5ED"
        },
        "yaxis1": {
         "gridcolor": "#E1E5ED",
         "showgrid": true,
         "tickfont": {
          "color": "#4D5663"
         },
         "title": "",
         "titlefont": {
          "color": "#4D5663"
         },
         "zerolinecolor": "#E1E5ED"
        }
       }
      },
      "text/html": [
       "<div id=\"23d91c60-e5b1-44e7-adf5-d2ba3de6df8e\" style=\"height: 525px; width: 100%;\" class=\"plotly-graph-div\"></div><script type=\"text/javascript\">require([\"plotly\"], function(Plotly) { window.PLOTLYENV=window.PLOTLYENV || {};window.PLOTLYENV.BASE_URL=\"https://plot.ly\";Plotly.newPlot(\"23d91c60-e5b1-44e7-adf5-d2ba3de6df8e\", [{\"type\": \"box\", \"y\": [127404, 600000, 1187122, 1590785, 2546157, 4611970, 7340317, 11349412, 16303573, 19364559, 24968891, 28080771, 30731754, 31830003, 33632631, 37715944, 38982188], \"marker\": {\"color\": \"rgba(255, 153, 51, 1.0)\"}, \"name\": \"Kenya\", \"line\": {\"width\": 1.3}, \"boxpoints\": false}, {\"type\": \"box\", \"y\": [23000, 103846, 190778, 527233, 1048558, 1827940, 4683127, 8218092, 11991469, 15339895, 18093231, 25056185, 27658595, 27657875, 27796611, 27938507, 27807293], \"marker\": {\"color\": \"rgba(55, 128, 191, 1.0)\"}, \"name\": \"Sudan\", \"line\": {\"width\": 1.3}, \"boxpoints\": false}, {\"type\": \"box\", \"y\": [110518, 275560, 606859, 1298000, 1942000, 2964000, 5609000, 8252000, 13006793, 17469486, 20983853, 25666455, 27219283, 27442823, 31862656, 39665600, 40044186], \"marker\": {\"color\": \"rgba(50, 171, 96, 1.0)\"}, \"name\": \"Tanzania\", \"line\": {\"width\": 1.3}, \"boxpoints\": false}, {\"type\": \"box\", \"y\": [126913, 283520, 393310, 776169, 1165035, 1315300, 2008818, 4195278, 8554864, 9383734, 12828264, 16696992, 16356387, 18068648, 20365941, 20220273, 22838486], \"marker\": {\"color\": \"rgba(128, 0, 128, 1.0)\"}, \"name\": \"Uganda\", \"line\": {\"width\": 1.3}, \"boxpoints\": false}, {\"type\": \"box\", \"y\": [39000, 65000, 82391, 130720, 137271, 222978, 314201, 635137, 1322637, 2429252, 3548761, 4446194, 5690751, 6689158, 7747019, 8759619, 8921533], \"marker\": {\"color\": \"rgba(219, 64, 82, 1.0)\"}, \"name\": \"Rwanda\", \"line\": {\"width\": 1.3}, \"boxpoints\": false}], {\"legend\": {\"bgcolor\": \"#F5F6F9\", \"font\": {\"color\": \"#4D5663\"}}, \"paper_bgcolor\": \"#F5F6F9\", \"plot_bgcolor\": \"#F5F6F9\", \"yaxis1\": {\"tickfont\": {\"color\": \"#4D5663\"}, \"gridcolor\": \"#E1E5ED\", \"titlefont\": {\"color\": \"#4D5663\"}, \"zerolinecolor\": \"#E1E5ED\", \"showgrid\": true, \"title\": \"\"}, \"xaxis1\": {\"tickfont\": {\"color\": \"#4D5663\"}, \"gridcolor\": \"#E1E5ED\", \"titlefont\": {\"color\": \"#4D5663\"}, \"zerolinecolor\": \"#E1E5ED\", \"showgrid\": true, \"title\": \"\"}, \"titlefont\": {\"color\": \"#4D5663\"}}, {\"showLink\": true, \"linkText\": \"Export to plot.ly\"})});</script>"
      ],
      "text/vnd.plotly.v1+html": [
       "<div id=\"23d91c60-e5b1-44e7-adf5-d2ba3de6df8e\" style=\"height: 525px; width: 100%;\" class=\"plotly-graph-div\"></div><script type=\"text/javascript\">require([\"plotly\"], function(Plotly) { window.PLOTLYENV=window.PLOTLYENV || {};window.PLOTLYENV.BASE_URL=\"https://plot.ly\";Plotly.newPlot(\"23d91c60-e5b1-44e7-adf5-d2ba3de6df8e\", [{\"type\": \"box\", \"y\": [127404, 600000, 1187122, 1590785, 2546157, 4611970, 7340317, 11349412, 16303573, 19364559, 24968891, 28080771, 30731754, 31830003, 33632631, 37715944, 38982188], \"marker\": {\"color\": \"rgba(255, 153, 51, 1.0)\"}, \"name\": \"Kenya\", \"line\": {\"width\": 1.3}, \"boxpoints\": false}, {\"type\": \"box\", \"y\": [23000, 103846, 190778, 527233, 1048558, 1827940, 4683127, 8218092, 11991469, 15339895, 18093231, 25056185, 27658595, 27657875, 27796611, 27938507, 27807293], \"marker\": {\"color\": \"rgba(55, 128, 191, 1.0)\"}, \"name\": \"Sudan\", \"line\": {\"width\": 1.3}, \"boxpoints\": false}, {\"type\": \"box\", \"y\": [110518, 275560, 606859, 1298000, 1942000, 2964000, 5609000, 8252000, 13006793, 17469486, 20983853, 25666455, 27219283, 27442823, 31862656, 39665600, 40044186], \"marker\": {\"color\": \"rgba(50, 171, 96, 1.0)\"}, \"name\": \"Tanzania\", \"line\": {\"width\": 1.3}, \"boxpoints\": false}, {\"type\": \"box\", \"y\": [126913, 283520, 393310, 776169, 1165035, 1315300, 2008818, 4195278, 8554864, 9383734, 12828264, 16696992, 16356387, 18068648, 20365941, 20220273, 22838486], \"marker\": {\"color\": \"rgba(128, 0, 128, 1.0)\"}, \"name\": \"Uganda\", \"line\": {\"width\": 1.3}, \"boxpoints\": false}, {\"type\": \"box\", \"y\": [39000, 65000, 82391, 130720, 137271, 222978, 314201, 635137, 1322637, 2429252, 3548761, 4446194, 5690751, 6689158, 7747019, 8759619, 8921533], \"marker\": {\"color\": \"rgba(219, 64, 82, 1.0)\"}, \"name\": \"Rwanda\", \"line\": {\"width\": 1.3}, \"boxpoints\": false}], {\"legend\": {\"bgcolor\": \"#F5F6F9\", \"font\": {\"color\": \"#4D5663\"}}, \"paper_bgcolor\": \"#F5F6F9\", \"plot_bgcolor\": \"#F5F6F9\", \"yaxis1\": {\"tickfont\": {\"color\": \"#4D5663\"}, \"gridcolor\": \"#E1E5ED\", \"titlefont\": {\"color\": \"#4D5663\"}, \"zerolinecolor\": \"#E1E5ED\", \"showgrid\": true, \"title\": \"\"}, \"xaxis1\": {\"tickfont\": {\"color\": \"#4D5663\"}, \"gridcolor\": \"#E1E5ED\", \"titlefont\": {\"color\": \"#4D5663\"}, \"zerolinecolor\": \"#E1E5ED\", \"showgrid\": true, \"title\": \"\"}, \"titlefont\": {\"color\": \"#4D5663\"}}, {\"showLink\": true, \"linkText\": \"Export to plot.ly\"})});</script>"
      ]
     },
     "metadata": {},
     "output_type": "display_data"
    }
   ],
   "source": [
    "df.iplot(kind='box')"
   ]
  },
  {
   "cell_type": "markdown",
   "metadata": {},
   "source": [
    "### 3D Surface plot"
   ]
  },
  {
   "cell_type": "code",
   "execution_count": 15,
   "metadata": {},
   "outputs": [
    {
     "data": {
      "application/vnd.plotly.v1+json": {
       "data": [
        {
         "colorscale": [
          [
           0,
           "rgb(165,0,38)"
          ],
          [
           0.1,
           "rgb(215,48,39)"
          ],
          [
           0.2,
           "rgb(244,109,67)"
          ],
          [
           0.3,
           "rgb(253,174,97)"
          ],
          [
           0.4,
           "rgb(254,224,144)"
          ],
          [
           0.5,
           "rgb(255,255,191)"
          ],
          [
           0.6,
           "rgb(224,243,248)"
          ],
          [
           0.7,
           "rgb(171,217,233)"
          ],
          [
           0.8,
           "rgb(116,173,209)"
          ],
          [
           0.9,
           "rgb(69,117,180)"
          ],
          [
           1,
           "rgb(49,54,149)"
          ]
         ],
         "type": "surface",
         "x": [
          "2000",
          "2001",
          "2002",
          "2003",
          "2004",
          "2005",
          "2006",
          "2007",
          "2008",
          "2009",
          "2010",
          "2011",
          "2012",
          "2013",
          "2014",
          "2015",
          "2016"
         ],
         "y": [
          "Kenya",
          "Sudan",
          "Tanzania",
          "Uganda",
          "Rwanda"
         ],
         "z": [
          [
           127404,
           600000,
           1187122,
           1590785,
           2546157,
           4611970,
           7340317,
           11349412,
           16303573,
           19364559,
           24968891,
           28080771,
           30731754,
           31830003,
           33632631,
           37715944,
           38982188
          ],
          [
           23000,
           103846,
           190778,
           527233,
           1048558,
           1827940,
           4683127,
           8218092,
           11991469,
           15339895,
           18093231,
           25056185,
           27658595,
           27657875,
           27796611,
           27938507,
           27807293
          ],
          [
           110518,
           275560,
           606859,
           1298000,
           1942000,
           2964000,
           5609000,
           8252000,
           13006793,
           17469486,
           20983853,
           25666455,
           27219283,
           27442823,
           31862656,
           39665600,
           40044186
          ],
          [
           126913,
           283520,
           393310,
           776169,
           1165035,
           1315300,
           2008818,
           4195278,
           8554864,
           9383734,
           12828264,
           16696992,
           16356387,
           18068648,
           20365941,
           20220273,
           22838486
          ],
          [
           39000,
           65000,
           82391,
           130720,
           137271,
           222978,
           314201,
           635137,
           1322637,
           2429252,
           3548761,
           4446194,
           5690751,
           6689158,
           7747019,
           8759619,
           8921533
          ]
         ]
        }
       ],
       "layout": {
        "legend": {
         "bgcolor": "#F5F6F9",
         "font": {
          "color": "#4D5663"
         }
        },
        "paper_bgcolor": "#F5F6F9",
        "plot_bgcolor": "#F5F6F9",
        "titlefont": {
         "color": "#4D5663"
        },
        "xaxis1": {
         "gridcolor": "#E1E5ED",
         "showgrid": true,
         "tickfont": {
          "color": "#4D5663"
         },
         "title": "",
         "titlefont": {
          "color": "#4D5663"
         },
         "zerolinecolor": "#E1E5ED"
        },
        "yaxis1": {
         "gridcolor": "#E1E5ED",
         "showgrid": true,
         "tickfont": {
          "color": "#4D5663"
         },
         "title": "",
         "titlefont": {
          "color": "#4D5663"
         },
         "zerolinecolor": "#E1E5ED"
        }
       }
      },
      "text/html": [
       "<div id=\"3028fdff-afdb-4f56-9477-901a5920e827\" style=\"height: 525px; width: 100%;\" class=\"plotly-graph-div\"></div><script type=\"text/javascript\">require([\"plotly\"], function(Plotly) { window.PLOTLYENV=window.PLOTLYENV || {};window.PLOTLYENV.BASE_URL=\"https://plot.ly\";Plotly.newPlot(\"3028fdff-afdb-4f56-9477-901a5920e827\", [{\"type\": \"surface\", \"z\": [[127404, 600000, 1187122, 1590785, 2546157, 4611970, 7340317, 11349412, 16303573, 19364559, 24968891, 28080771, 30731754, 31830003, 33632631, 37715944, 38982188], [23000, 103846, 190778, 527233, 1048558, 1827940, 4683127, 8218092, 11991469, 15339895, 18093231, 25056185, 27658595, 27657875, 27796611, 27938507, 27807293], [110518, 275560, 606859, 1298000, 1942000, 2964000, 5609000, 8252000, 13006793, 17469486, 20983853, 25666455, 27219283, 27442823, 31862656, 39665600, 40044186], [126913, 283520, 393310, 776169, 1165035, 1315300, 2008818, 4195278, 8554864, 9383734, 12828264, 16696992, 16356387, 18068648, 20365941, 20220273, 22838486], [39000, 65000, 82391, 130720, 137271, 222978, 314201, 635137, 1322637, 2429252, 3548761, 4446194, 5690751, 6689158, 7747019, 8759619, 8921533]], \"x\": [\"2000\", \"2001\", \"2002\", \"2003\", \"2004\", \"2005\", \"2006\", \"2007\", \"2008\", \"2009\", \"2010\", \"2011\", \"2012\", \"2013\", \"2014\", \"2015\", \"2016\"], \"y\": [\"Kenya\", \"Sudan\", \"Tanzania\", \"Uganda\", \"Rwanda\"], \"colorscale\": [[0.0, \"rgb(165,0,38)\"], [0.1, \"rgb(215,48,39)\"], [0.2, \"rgb(244,109,67)\"], [0.3, \"rgb(253,174,97)\"], [0.4, \"rgb(254,224,144)\"], [0.5, \"rgb(255,255,191)\"], [0.6, \"rgb(224,243,248)\"], [0.7, \"rgb(171,217,233)\"], [0.8, \"rgb(116,173,209)\"], [0.9, \"rgb(69,117,180)\"], [1.0, \"rgb(49,54,149)\"]]}], {\"legend\": {\"bgcolor\": \"#F5F6F9\", \"font\": {\"color\": \"#4D5663\"}}, \"paper_bgcolor\": \"#F5F6F9\", \"plot_bgcolor\": \"#F5F6F9\", \"yaxis1\": {\"tickfont\": {\"color\": \"#4D5663\"}, \"gridcolor\": \"#E1E5ED\", \"titlefont\": {\"color\": \"#4D5663\"}, \"zerolinecolor\": \"#E1E5ED\", \"showgrid\": true, \"title\": \"\"}, \"xaxis1\": {\"tickfont\": {\"color\": \"#4D5663\"}, \"gridcolor\": \"#E1E5ED\", \"titlefont\": {\"color\": \"#4D5663\"}, \"zerolinecolor\": \"#E1E5ED\", \"showgrid\": true, \"title\": \"\"}, \"titlefont\": {\"color\": \"#4D5663\"}}, {\"showLink\": true, \"linkText\": \"Export to plot.ly\"})});</script>"
      ],
      "text/vnd.plotly.v1+html": [
       "<div id=\"3028fdff-afdb-4f56-9477-901a5920e827\" style=\"height: 525px; width: 100%;\" class=\"plotly-graph-div\"></div><script type=\"text/javascript\">require([\"plotly\"], function(Plotly) { window.PLOTLYENV=window.PLOTLYENV || {};window.PLOTLYENV.BASE_URL=\"https://plot.ly\";Plotly.newPlot(\"3028fdff-afdb-4f56-9477-901a5920e827\", [{\"type\": \"surface\", \"z\": [[127404, 600000, 1187122, 1590785, 2546157, 4611970, 7340317, 11349412, 16303573, 19364559, 24968891, 28080771, 30731754, 31830003, 33632631, 37715944, 38982188], [23000, 103846, 190778, 527233, 1048558, 1827940, 4683127, 8218092, 11991469, 15339895, 18093231, 25056185, 27658595, 27657875, 27796611, 27938507, 27807293], [110518, 275560, 606859, 1298000, 1942000, 2964000, 5609000, 8252000, 13006793, 17469486, 20983853, 25666455, 27219283, 27442823, 31862656, 39665600, 40044186], [126913, 283520, 393310, 776169, 1165035, 1315300, 2008818, 4195278, 8554864, 9383734, 12828264, 16696992, 16356387, 18068648, 20365941, 20220273, 22838486], [39000, 65000, 82391, 130720, 137271, 222978, 314201, 635137, 1322637, 2429252, 3548761, 4446194, 5690751, 6689158, 7747019, 8759619, 8921533]], \"x\": [\"2000\", \"2001\", \"2002\", \"2003\", \"2004\", \"2005\", \"2006\", \"2007\", \"2008\", \"2009\", \"2010\", \"2011\", \"2012\", \"2013\", \"2014\", \"2015\", \"2016\"], \"y\": [\"Kenya\", \"Sudan\", \"Tanzania\", \"Uganda\", \"Rwanda\"], \"colorscale\": [[0.0, \"rgb(165,0,38)\"], [0.1, \"rgb(215,48,39)\"], [0.2, \"rgb(244,109,67)\"], [0.3, \"rgb(253,174,97)\"], [0.4, \"rgb(254,224,144)\"], [0.5, \"rgb(255,255,191)\"], [0.6, \"rgb(224,243,248)\"], [0.7, \"rgb(171,217,233)\"], [0.8, \"rgb(116,173,209)\"], [0.9, \"rgb(69,117,180)\"], [1.0, \"rgb(49,54,149)\"]]}], {\"legend\": {\"bgcolor\": \"#F5F6F9\", \"font\": {\"color\": \"#4D5663\"}}, \"paper_bgcolor\": \"#F5F6F9\", \"plot_bgcolor\": \"#F5F6F9\", \"yaxis1\": {\"tickfont\": {\"color\": \"#4D5663\"}, \"gridcolor\": \"#E1E5ED\", \"titlefont\": {\"color\": \"#4D5663\"}, \"zerolinecolor\": \"#E1E5ED\", \"showgrid\": true, \"title\": \"\"}, \"xaxis1\": {\"tickfont\": {\"color\": \"#4D5663\"}, \"gridcolor\": \"#E1E5ED\", \"titlefont\": {\"color\": \"#4D5663\"}, \"zerolinecolor\": \"#E1E5ED\", \"showgrid\": true, \"title\": \"\"}, \"titlefont\": {\"color\": \"#4D5663\"}}, {\"showLink\": true, \"linkText\": \"Export to plot.ly\"})});</script>"
      ]
     },
     "metadata": {},
     "output_type": "display_data"
    }
   ],
   "source": [
    "df.iplot(kind='surface',colorscale='rdylbu')"
   ]
  },
  {
   "cell_type": "markdown",
   "metadata": {},
   "source": [
    "## Histogram"
   ]
  },
  {
   "cell_type": "code",
   "execution_count": 16,
   "metadata": {},
   "outputs": [
    {
     "data": {
      "application/vnd.plotly.v1+json": {
       "data": [
        {
         "histfunc": "count",
         "histnorm": "",
         "marker": {
          "color": "rgba(255, 153, 51, 1.0)",
          "line": {
           "color": "#4D5663",
           "width": 1.3
          }
         },
         "name": "Kenya",
         "nbinsx": 30,
         "opacity": 0.8,
         "orientation": "v",
         "type": "histogram",
         "x": [
          127404,
          600000,
          1187122,
          1590785,
          2546157,
          4611970,
          7340317,
          11349412,
          16303573,
          19364559,
          24968891,
          28080771,
          30731754,
          31830003,
          33632631,
          37715944,
          38982188
         ]
        },
        {
         "histfunc": "count",
         "histnorm": "",
         "marker": {
          "color": "rgba(55, 128, 191, 1.0)",
          "line": {
           "color": "#4D5663",
           "width": 1.3
          }
         },
         "name": "Sudan",
         "nbinsx": 30,
         "opacity": 0.8,
         "orientation": "v",
         "type": "histogram",
         "x": [
          23000,
          103846,
          190778,
          527233,
          1048558,
          1827940,
          4683127,
          8218092,
          11991469,
          15339895,
          18093231,
          25056185,
          27658595,
          27657875,
          27796611,
          27938507,
          27807293
         ]
        },
        {
         "histfunc": "count",
         "histnorm": "",
         "marker": {
          "color": "rgba(50, 171, 96, 1.0)",
          "line": {
           "color": "#4D5663",
           "width": 1.3
          }
         },
         "name": "Tanzania",
         "nbinsx": 30,
         "opacity": 0.8,
         "orientation": "v",
         "type": "histogram",
         "x": [
          110518,
          275560,
          606859,
          1298000,
          1942000,
          2964000,
          5609000,
          8252000,
          13006793,
          17469486,
          20983853,
          25666455,
          27219283,
          27442823,
          31862656,
          39665600,
          40044186
         ]
        },
        {
         "histfunc": "count",
         "histnorm": "",
         "marker": {
          "color": "rgba(128, 0, 128, 1.0)",
          "line": {
           "color": "#4D5663",
           "width": 1.3
          }
         },
         "name": "Uganda",
         "nbinsx": 30,
         "opacity": 0.8,
         "orientation": "v",
         "type": "histogram",
         "x": [
          126913,
          283520,
          393310,
          776169,
          1165035,
          1315300,
          2008818,
          4195278,
          8554864,
          9383734,
          12828264,
          16696992,
          16356387,
          18068648,
          20365941,
          20220273,
          22838486
         ]
        },
        {
         "histfunc": "count",
         "histnorm": "",
         "marker": {
          "color": "rgba(219, 64, 82, 1.0)",
          "line": {
           "color": "#4D5663",
           "width": 1.3
          }
         },
         "name": "Rwanda",
         "nbinsx": 30,
         "opacity": 0.8,
         "orientation": "v",
         "type": "histogram",
         "x": [
          39000,
          65000,
          82391,
          130720,
          137271,
          222978,
          314201,
          635137,
          1322637,
          2429252,
          3548761,
          4446194,
          5690751,
          6689158,
          7747019,
          8759619,
          8921533
         ]
        }
       ],
       "layout": {
        "barmode": "overlay",
        "legend": {
         "bgcolor": "#F5F6F9",
         "font": {
          "color": "#4D5663"
         }
        },
        "paper_bgcolor": "#F5F6F9",
        "plot_bgcolor": "#F5F6F9",
        "titlefont": {
         "color": "#4D5663"
        },
        "xaxis1": {
         "gridcolor": "#E1E5ED",
         "showgrid": true,
         "tickfont": {
          "color": "#4D5663"
         },
         "title": "",
         "titlefont": {
          "color": "#4D5663"
         },
         "zerolinecolor": "#E1E5ED"
        },
        "yaxis1": {
         "gridcolor": "#E1E5ED",
         "showgrid": true,
         "tickfont": {
          "color": "#4D5663"
         },
         "title": "",
         "titlefont": {
          "color": "#4D5663"
         },
         "zerolinecolor": "#E1E5ED"
        }
       }
      },
      "text/html": [
       "<div id=\"c08fe6f0-3454-4e8b-9b06-01758857bd6c\" style=\"height: 525px; width: 100%;\" class=\"plotly-graph-div\"></div><script type=\"text/javascript\">require([\"plotly\"], function(Plotly) { window.PLOTLYENV=window.PLOTLYENV || {};window.PLOTLYENV.BASE_URL=\"https://plot.ly\";Plotly.newPlot(\"c08fe6f0-3454-4e8b-9b06-01758857bd6c\", [{\"type\": \"histogram\", \"x\": [127404, 600000, 1187122, 1590785, 2546157, 4611970, 7340317, 11349412, 16303573, 19364559, 24968891, 28080771, 30731754, 31830003, 33632631, 37715944, 38982188], \"name\": \"Kenya\", \"marker\": {\"color\": \"rgba(255, 153, 51, 1.0)\", \"line\": {\"width\": 1.3, \"color\": \"#4D5663\"}}, \"orientation\": \"v\", \"opacity\": 0.8, \"histfunc\": \"count\", \"histnorm\": \"\", \"nbinsx\": 30}, {\"type\": \"histogram\", \"x\": [23000, 103846, 190778, 527233, 1048558, 1827940, 4683127, 8218092, 11991469, 15339895, 18093231, 25056185, 27658595, 27657875, 27796611, 27938507, 27807293], \"name\": \"Sudan\", \"marker\": {\"color\": \"rgba(55, 128, 191, 1.0)\", \"line\": {\"width\": 1.3, \"color\": \"#4D5663\"}}, \"orientation\": \"v\", \"opacity\": 0.8, \"histfunc\": \"count\", \"histnorm\": \"\", \"nbinsx\": 30}, {\"type\": \"histogram\", \"x\": [110518, 275560, 606859, 1298000, 1942000, 2964000, 5609000, 8252000, 13006793, 17469486, 20983853, 25666455, 27219283, 27442823, 31862656, 39665600, 40044186], \"name\": \"Tanzania\", \"marker\": {\"color\": \"rgba(50, 171, 96, 1.0)\", \"line\": {\"width\": 1.3, \"color\": \"#4D5663\"}}, \"orientation\": \"v\", \"opacity\": 0.8, \"histfunc\": \"count\", \"histnorm\": \"\", \"nbinsx\": 30}, {\"type\": \"histogram\", \"x\": [126913, 283520, 393310, 776169, 1165035, 1315300, 2008818, 4195278, 8554864, 9383734, 12828264, 16696992, 16356387, 18068648, 20365941, 20220273, 22838486], \"name\": \"Uganda\", \"marker\": {\"color\": \"rgba(128, 0, 128, 1.0)\", \"line\": {\"width\": 1.3, \"color\": \"#4D5663\"}}, \"orientation\": \"v\", \"opacity\": 0.8, \"histfunc\": \"count\", \"histnorm\": \"\", \"nbinsx\": 30}, {\"type\": \"histogram\", \"x\": [39000, 65000, 82391, 130720, 137271, 222978, 314201, 635137, 1322637, 2429252, 3548761, 4446194, 5690751, 6689158, 7747019, 8759619, 8921533], \"name\": \"Rwanda\", \"marker\": {\"color\": \"rgba(219, 64, 82, 1.0)\", \"line\": {\"width\": 1.3, \"color\": \"#4D5663\"}}, \"orientation\": \"v\", \"opacity\": 0.8, \"histfunc\": \"count\", \"histnorm\": \"\", \"nbinsx\": 30}], {\"legend\": {\"bgcolor\": \"#F5F6F9\", \"font\": {\"color\": \"#4D5663\"}}, \"paper_bgcolor\": \"#F5F6F9\", \"plot_bgcolor\": \"#F5F6F9\", \"yaxis1\": {\"tickfont\": {\"color\": \"#4D5663\"}, \"gridcolor\": \"#E1E5ED\", \"titlefont\": {\"color\": \"#4D5663\"}, \"zerolinecolor\": \"#E1E5ED\", \"showgrid\": true, \"title\": \"\"}, \"xaxis1\": {\"tickfont\": {\"color\": \"#4D5663\"}, \"gridcolor\": \"#E1E5ED\", \"titlefont\": {\"color\": \"#4D5663\"}, \"zerolinecolor\": \"#E1E5ED\", \"showgrid\": true, \"title\": \"\"}, \"titlefont\": {\"color\": \"#4D5663\"}, \"barmode\": \"overlay\"}, {\"showLink\": true, \"linkText\": \"Export to plot.ly\"})});</script>"
      ],
      "text/vnd.plotly.v1+html": [
       "<div id=\"c08fe6f0-3454-4e8b-9b06-01758857bd6c\" style=\"height: 525px; width: 100%;\" class=\"plotly-graph-div\"></div><script type=\"text/javascript\">require([\"plotly\"], function(Plotly) { window.PLOTLYENV=window.PLOTLYENV || {};window.PLOTLYENV.BASE_URL=\"https://plot.ly\";Plotly.newPlot(\"c08fe6f0-3454-4e8b-9b06-01758857bd6c\", [{\"type\": \"histogram\", \"x\": [127404, 600000, 1187122, 1590785, 2546157, 4611970, 7340317, 11349412, 16303573, 19364559, 24968891, 28080771, 30731754, 31830003, 33632631, 37715944, 38982188], \"name\": \"Kenya\", \"marker\": {\"color\": \"rgba(255, 153, 51, 1.0)\", \"line\": {\"width\": 1.3, \"color\": \"#4D5663\"}}, \"orientation\": \"v\", \"opacity\": 0.8, \"histfunc\": \"count\", \"histnorm\": \"\", \"nbinsx\": 30}, {\"type\": \"histogram\", \"x\": [23000, 103846, 190778, 527233, 1048558, 1827940, 4683127, 8218092, 11991469, 15339895, 18093231, 25056185, 27658595, 27657875, 27796611, 27938507, 27807293], \"name\": \"Sudan\", \"marker\": {\"color\": \"rgba(55, 128, 191, 1.0)\", \"line\": {\"width\": 1.3, \"color\": \"#4D5663\"}}, \"orientation\": \"v\", \"opacity\": 0.8, \"histfunc\": \"count\", \"histnorm\": \"\", \"nbinsx\": 30}, {\"type\": \"histogram\", \"x\": [110518, 275560, 606859, 1298000, 1942000, 2964000, 5609000, 8252000, 13006793, 17469486, 20983853, 25666455, 27219283, 27442823, 31862656, 39665600, 40044186], \"name\": \"Tanzania\", \"marker\": {\"color\": \"rgba(50, 171, 96, 1.0)\", \"line\": {\"width\": 1.3, \"color\": \"#4D5663\"}}, \"orientation\": \"v\", \"opacity\": 0.8, \"histfunc\": \"count\", \"histnorm\": \"\", \"nbinsx\": 30}, {\"type\": \"histogram\", \"x\": [126913, 283520, 393310, 776169, 1165035, 1315300, 2008818, 4195278, 8554864, 9383734, 12828264, 16696992, 16356387, 18068648, 20365941, 20220273, 22838486], \"name\": \"Uganda\", \"marker\": {\"color\": \"rgba(128, 0, 128, 1.0)\", \"line\": {\"width\": 1.3, \"color\": \"#4D5663\"}}, \"orientation\": \"v\", \"opacity\": 0.8, \"histfunc\": \"count\", \"histnorm\": \"\", \"nbinsx\": 30}, {\"type\": \"histogram\", \"x\": [39000, 65000, 82391, 130720, 137271, 222978, 314201, 635137, 1322637, 2429252, 3548761, 4446194, 5690751, 6689158, 7747019, 8759619, 8921533], \"name\": \"Rwanda\", \"marker\": {\"color\": \"rgba(219, 64, 82, 1.0)\", \"line\": {\"width\": 1.3, \"color\": \"#4D5663\"}}, \"orientation\": \"v\", \"opacity\": 0.8, \"histfunc\": \"count\", \"histnorm\": \"\", \"nbinsx\": 30}], {\"legend\": {\"bgcolor\": \"#F5F6F9\", \"font\": {\"color\": \"#4D5663\"}}, \"paper_bgcolor\": \"#F5F6F9\", \"plot_bgcolor\": \"#F5F6F9\", \"yaxis1\": {\"tickfont\": {\"color\": \"#4D5663\"}, \"gridcolor\": \"#E1E5ED\", \"titlefont\": {\"color\": \"#4D5663\"}, \"zerolinecolor\": \"#E1E5ED\", \"showgrid\": true, \"title\": \"\"}, \"xaxis1\": {\"tickfont\": {\"color\": \"#4D5663\"}, \"gridcolor\": \"#E1E5ED\", \"titlefont\": {\"color\": \"#4D5663\"}, \"zerolinecolor\": \"#E1E5ED\", \"showgrid\": true, \"title\": \"\"}, \"titlefont\": {\"color\": \"#4D5663\"}, \"barmode\": \"overlay\"}, {\"showLink\": true, \"linkText\": \"Export to plot.ly\"})});</script>"
      ]
     },
     "metadata": {},
     "output_type": "display_data"
    }
   ],
   "source": [
    "df.iplot(kind='hist',bins=30)"
   ]
  },
  {
   "cell_type": "markdown",
   "metadata": {},
   "source": [
    "### Overlapping Histograms \n",
    "\n",
    "Turn column on / off by clicking on the legend"
   ]
  },
  {
   "cell_type": "code",
   "execution_count": 17,
   "metadata": {},
   "outputs": [
    {
     "data": {
      "application/vnd.plotly.v1+json": {
       "data": [
        {
         "histfunc": "count",
         "histnorm": "",
         "marker": {
          "color": "rgba(255, 153, 51, 1.0)",
          "line": {
           "color": "#4D5663",
           "width": 1.3
          }
         },
         "name": "Kenya",
         "nbinsx": 30,
         "opacity": 0.8,
         "orientation": "v",
         "type": "histogram",
         "x": [
          127404,
          600000,
          1187122,
          1590785,
          2546157,
          4611970,
          7340317,
          11349412,
          16303573,
          19364559,
          24968891,
          28080771,
          30731754,
          31830003,
          33632631,
          37715944,
          38982188
         ]
        },
        {
         "histfunc": "count",
         "histnorm": "",
         "marker": {
          "color": "rgba(55, 128, 191, 1.0)",
          "line": {
           "color": "#4D5663",
           "width": 1.3
          }
         },
         "name": "Sudan",
         "nbinsx": 30,
         "opacity": 0.8,
         "orientation": "v",
         "type": "histogram",
         "x": [
          23000,
          103846,
          190778,
          527233,
          1048558,
          1827940,
          4683127,
          8218092,
          11991469,
          15339895,
          18093231,
          25056185,
          27658595,
          27657875,
          27796611,
          27938507,
          27807293
         ]
        },
        {
         "histfunc": "count",
         "histnorm": "",
         "marker": {
          "color": "rgba(50, 171, 96, 1.0)",
          "line": {
           "color": "#4D5663",
           "width": 1.3
          }
         },
         "name": "Tanzania",
         "nbinsx": 30,
         "opacity": 0.8,
         "orientation": "v",
         "type": "histogram",
         "x": [
          110518,
          275560,
          606859,
          1298000,
          1942000,
          2964000,
          5609000,
          8252000,
          13006793,
          17469486,
          20983853,
          25666455,
          27219283,
          27442823,
          31862656,
          39665600,
          40044186
         ]
        },
        {
         "histfunc": "count",
         "histnorm": "",
         "marker": {
          "color": "rgba(128, 0, 128, 1.0)",
          "line": {
           "color": "#4D5663",
           "width": 1.3
          }
         },
         "name": "Uganda",
         "nbinsx": 30,
         "opacity": 0.8,
         "orientation": "v",
         "type": "histogram",
         "x": [
          126913,
          283520,
          393310,
          776169,
          1165035,
          1315300,
          2008818,
          4195278,
          8554864,
          9383734,
          12828264,
          16696992,
          16356387,
          18068648,
          20365941,
          20220273,
          22838486
         ]
        },
        {
         "histfunc": "count",
         "histnorm": "",
         "marker": {
          "color": "rgba(219, 64, 82, 1.0)",
          "line": {
           "color": "#4D5663",
           "width": 1.3
          }
         },
         "name": "Rwanda",
         "nbinsx": 30,
         "opacity": 0.8,
         "orientation": "v",
         "type": "histogram",
         "x": [
          39000,
          65000,
          82391,
          130720,
          137271,
          222978,
          314201,
          635137,
          1322637,
          2429252,
          3548761,
          4446194,
          5690751,
          6689158,
          7747019,
          8759619,
          8921533
         ]
        }
       ],
       "layout": {
        "barmode": "overlay",
        "legend": {
         "bgcolor": "#F5F6F9",
         "font": {
          "color": "#4D5663"
         }
        },
        "paper_bgcolor": "#F5F6F9",
        "plot_bgcolor": "#F5F6F9",
        "titlefont": {
         "color": "#4D5663"
        },
        "xaxis1": {
         "gridcolor": "#E1E5ED",
         "showgrid": true,
         "tickfont": {
          "color": "#4D5663"
         },
         "title": "",
         "titlefont": {
          "color": "#4D5663"
         },
         "zerolinecolor": "#E1E5ED"
        },
        "yaxis1": {
         "gridcolor": "#E1E5ED",
         "showgrid": true,
         "tickfont": {
          "color": "#4D5663"
         },
         "title": "",
         "titlefont": {
          "color": "#4D5663"
         },
         "zerolinecolor": "#E1E5ED"
        }
       }
      },
      "text/html": [
       "<div id=\"60099844-4857-4351-9ae8-1b7e9ed15dab\" style=\"height: 525px; width: 100%;\" class=\"plotly-graph-div\"></div><script type=\"text/javascript\">require([\"plotly\"], function(Plotly) { window.PLOTLYENV=window.PLOTLYENV || {};window.PLOTLYENV.BASE_URL=\"https://plot.ly\";Plotly.newPlot(\"60099844-4857-4351-9ae8-1b7e9ed15dab\", [{\"type\": \"histogram\", \"x\": [127404, 600000, 1187122, 1590785, 2546157, 4611970, 7340317, 11349412, 16303573, 19364559, 24968891, 28080771, 30731754, 31830003, 33632631, 37715944, 38982188], \"name\": \"Kenya\", \"marker\": {\"color\": \"rgba(255, 153, 51, 1.0)\", \"line\": {\"width\": 1.3, \"color\": \"#4D5663\"}}, \"orientation\": \"v\", \"opacity\": 0.8, \"histfunc\": \"count\", \"histnorm\": \"\", \"nbinsx\": 30}, {\"type\": \"histogram\", \"x\": [23000, 103846, 190778, 527233, 1048558, 1827940, 4683127, 8218092, 11991469, 15339895, 18093231, 25056185, 27658595, 27657875, 27796611, 27938507, 27807293], \"name\": \"Sudan\", \"marker\": {\"color\": \"rgba(55, 128, 191, 1.0)\", \"line\": {\"width\": 1.3, \"color\": \"#4D5663\"}}, \"orientation\": \"v\", \"opacity\": 0.8, \"histfunc\": \"count\", \"histnorm\": \"\", \"nbinsx\": 30}, {\"type\": \"histogram\", \"x\": [110518, 275560, 606859, 1298000, 1942000, 2964000, 5609000, 8252000, 13006793, 17469486, 20983853, 25666455, 27219283, 27442823, 31862656, 39665600, 40044186], \"name\": \"Tanzania\", \"marker\": {\"color\": \"rgba(50, 171, 96, 1.0)\", \"line\": {\"width\": 1.3, \"color\": \"#4D5663\"}}, \"orientation\": \"v\", \"opacity\": 0.8, \"histfunc\": \"count\", \"histnorm\": \"\", \"nbinsx\": 30}, {\"type\": \"histogram\", \"x\": [126913, 283520, 393310, 776169, 1165035, 1315300, 2008818, 4195278, 8554864, 9383734, 12828264, 16696992, 16356387, 18068648, 20365941, 20220273, 22838486], \"name\": \"Uganda\", \"marker\": {\"color\": \"rgba(128, 0, 128, 1.0)\", \"line\": {\"width\": 1.3, \"color\": \"#4D5663\"}}, \"orientation\": \"v\", \"opacity\": 0.8, \"histfunc\": \"count\", \"histnorm\": \"\", \"nbinsx\": 30}, {\"type\": \"histogram\", \"x\": [39000, 65000, 82391, 130720, 137271, 222978, 314201, 635137, 1322637, 2429252, 3548761, 4446194, 5690751, 6689158, 7747019, 8759619, 8921533], \"name\": \"Rwanda\", \"marker\": {\"color\": \"rgba(219, 64, 82, 1.0)\", \"line\": {\"width\": 1.3, \"color\": \"#4D5663\"}}, \"orientation\": \"v\", \"opacity\": 0.8, \"histfunc\": \"count\", \"histnorm\": \"\", \"nbinsx\": 30}], {\"legend\": {\"bgcolor\": \"#F5F6F9\", \"font\": {\"color\": \"#4D5663\"}}, \"paper_bgcolor\": \"#F5F6F9\", \"plot_bgcolor\": \"#F5F6F9\", \"yaxis1\": {\"tickfont\": {\"color\": \"#4D5663\"}, \"gridcolor\": \"#E1E5ED\", \"titlefont\": {\"color\": \"#4D5663\"}, \"zerolinecolor\": \"#E1E5ED\", \"showgrid\": true, \"title\": \"\"}, \"xaxis1\": {\"tickfont\": {\"color\": \"#4D5663\"}, \"gridcolor\": \"#E1E5ED\", \"titlefont\": {\"color\": \"#4D5663\"}, \"zerolinecolor\": \"#E1E5ED\", \"showgrid\": true, \"title\": \"\"}, \"titlefont\": {\"color\": \"#4D5663\"}, \"barmode\": \"overlay\"}, {\"showLink\": true, \"linkText\": \"Export to plot.ly\"})});</script>"
      ],
      "text/vnd.plotly.v1+html": [
       "<div id=\"60099844-4857-4351-9ae8-1b7e9ed15dab\" style=\"height: 525px; width: 100%;\" class=\"plotly-graph-div\"></div><script type=\"text/javascript\">require([\"plotly\"], function(Plotly) { window.PLOTLYENV=window.PLOTLYENV || {};window.PLOTLYENV.BASE_URL=\"https://plot.ly\";Plotly.newPlot(\"60099844-4857-4351-9ae8-1b7e9ed15dab\", [{\"type\": \"histogram\", \"x\": [127404, 600000, 1187122, 1590785, 2546157, 4611970, 7340317, 11349412, 16303573, 19364559, 24968891, 28080771, 30731754, 31830003, 33632631, 37715944, 38982188], \"name\": \"Kenya\", \"marker\": {\"color\": \"rgba(255, 153, 51, 1.0)\", \"line\": {\"width\": 1.3, \"color\": \"#4D5663\"}}, \"orientation\": \"v\", \"opacity\": 0.8, \"histfunc\": \"count\", \"histnorm\": \"\", \"nbinsx\": 30}, {\"type\": \"histogram\", \"x\": [23000, 103846, 190778, 527233, 1048558, 1827940, 4683127, 8218092, 11991469, 15339895, 18093231, 25056185, 27658595, 27657875, 27796611, 27938507, 27807293], \"name\": \"Sudan\", \"marker\": {\"color\": \"rgba(55, 128, 191, 1.0)\", \"line\": {\"width\": 1.3, \"color\": \"#4D5663\"}}, \"orientation\": \"v\", \"opacity\": 0.8, \"histfunc\": \"count\", \"histnorm\": \"\", \"nbinsx\": 30}, {\"type\": \"histogram\", \"x\": [110518, 275560, 606859, 1298000, 1942000, 2964000, 5609000, 8252000, 13006793, 17469486, 20983853, 25666455, 27219283, 27442823, 31862656, 39665600, 40044186], \"name\": \"Tanzania\", \"marker\": {\"color\": \"rgba(50, 171, 96, 1.0)\", \"line\": {\"width\": 1.3, \"color\": \"#4D5663\"}}, \"orientation\": \"v\", \"opacity\": 0.8, \"histfunc\": \"count\", \"histnorm\": \"\", \"nbinsx\": 30}, {\"type\": \"histogram\", \"x\": [126913, 283520, 393310, 776169, 1165035, 1315300, 2008818, 4195278, 8554864, 9383734, 12828264, 16696992, 16356387, 18068648, 20365941, 20220273, 22838486], \"name\": \"Uganda\", \"marker\": {\"color\": \"rgba(128, 0, 128, 1.0)\", \"line\": {\"width\": 1.3, \"color\": \"#4D5663\"}}, \"orientation\": \"v\", \"opacity\": 0.8, \"histfunc\": \"count\", \"histnorm\": \"\", \"nbinsx\": 30}, {\"type\": \"histogram\", \"x\": [39000, 65000, 82391, 130720, 137271, 222978, 314201, 635137, 1322637, 2429252, 3548761, 4446194, 5690751, 6689158, 7747019, 8759619, 8921533], \"name\": \"Rwanda\", \"marker\": {\"color\": \"rgba(219, 64, 82, 1.0)\", \"line\": {\"width\": 1.3, \"color\": \"#4D5663\"}}, \"orientation\": \"v\", \"opacity\": 0.8, \"histfunc\": \"count\", \"histnorm\": \"\", \"nbinsx\": 30}], {\"legend\": {\"bgcolor\": \"#F5F6F9\", \"font\": {\"color\": \"#4D5663\"}}, \"paper_bgcolor\": \"#F5F6F9\", \"plot_bgcolor\": \"#F5F6F9\", \"yaxis1\": {\"tickfont\": {\"color\": \"#4D5663\"}, \"gridcolor\": \"#E1E5ED\", \"titlefont\": {\"color\": \"#4D5663\"}, \"zerolinecolor\": \"#E1E5ED\", \"showgrid\": true, \"title\": \"\"}, \"xaxis1\": {\"tickfont\": {\"color\": \"#4D5663\"}, \"gridcolor\": \"#E1E5ED\", \"titlefont\": {\"color\": \"#4D5663\"}, \"zerolinecolor\": \"#E1E5ED\", \"showgrid\": true, \"title\": \"\"}, \"titlefont\": {\"color\": \"#4D5663\"}, \"barmode\": \"overlay\"}, {\"showLink\": true, \"linkText\": \"Export to plot.ly\"})});</script>"
      ]
     },
     "metadata": {},
     "output_type": "display_data"
    }
   ],
   "source": [
    "df.iplot(kind='hist',bins=30)\n"
   ]
  },
  {
   "cell_type": "markdown",
   "metadata": {},
   "source": [
    "## Spread type"
   ]
  },
  {
   "cell_type": "code",
   "execution_count": 18,
   "metadata": {
    "scrolled": false
   },
   "outputs": [
    {
     "data": {
      "application/vnd.plotly.v1+json": {
       "data": [
        {
         "line": {
          "color": "rgba(255, 153, 51, 1.0)",
          "dash": "solid",
          "width": 1.3
         },
         "mode": "lines",
         "name": "Kenya",
         "text": "",
         "type": "scatter",
         "x": [
          "2000",
          "2001",
          "2002",
          "2003",
          "2004",
          "2005",
          "2006",
          "2007",
          "2008",
          "2009",
          "2010",
          "2011",
          "2012",
          "2013",
          "2014",
          "2015",
          "2016"
         ],
         "y": [
          127404,
          600000,
          1187122,
          1590785,
          2546157,
          4611970,
          7340317,
          11349412,
          16303573,
          19364559,
          24968891,
          28080771,
          30731754,
          31830003,
          33632631,
          37715944,
          38982188
         ]
        },
        {
         "line": {
          "color": "rgba(55, 128, 191, 1.0)",
          "dash": "solid",
          "width": 1.3
         },
         "mode": "lines",
         "name": "Sudan",
         "text": "",
         "type": "scatter",
         "x": [
          "2000",
          "2001",
          "2002",
          "2003",
          "2004",
          "2005",
          "2006",
          "2007",
          "2008",
          "2009",
          "2010",
          "2011",
          "2012",
          "2013",
          "2014",
          "2015",
          "2016"
         ],
         "y": [
          23000,
          103846,
          190778,
          527233,
          1048558,
          1827940,
          4683127,
          8218092,
          11991469,
          15339895,
          18093231,
          25056185,
          27658595,
          27657875,
          27796611,
          27938507,
          27807293
         ]
        },
        {
         "line": {
          "color": "rgba(50, 171, 96, 1.0)",
          "dash": "solid",
          "width": 1.3
         },
         "mode": "lines",
         "name": "Tanzania",
         "text": "",
         "type": "scatter",
         "x": [
          "2000",
          "2001",
          "2002",
          "2003",
          "2004",
          "2005",
          "2006",
          "2007",
          "2008",
          "2009",
          "2010",
          "2011",
          "2012",
          "2013",
          "2014",
          "2015",
          "2016"
         ],
         "y": [
          110518,
          275560,
          606859,
          1298000,
          1942000,
          2964000,
          5609000,
          8252000,
          13006793,
          17469486,
          20983853,
          25666455,
          27219283,
          27442823,
          31862656,
          39665600,
          40044186
         ]
        },
        {
         "line": {
          "color": "rgba(128, 0, 128, 1.0)",
          "dash": "solid",
          "width": 1.3
         },
         "mode": "lines",
         "name": "Uganda",
         "text": "",
         "type": "scatter",
         "x": [
          "2000",
          "2001",
          "2002",
          "2003",
          "2004",
          "2005",
          "2006",
          "2007",
          "2008",
          "2009",
          "2010",
          "2011",
          "2012",
          "2013",
          "2014",
          "2015",
          "2016"
         ],
         "y": [
          126913,
          283520,
          393310,
          776169,
          1165035,
          1315300,
          2008818,
          4195278,
          8554864,
          9383734,
          12828264,
          16696992,
          16356387,
          18068648,
          20365941,
          20220273,
          22838486
         ]
        },
        {
         "line": {
          "color": "rgba(219, 64, 82, 1.0)",
          "dash": "solid",
          "width": 1.3
         },
         "mode": "lines",
         "name": "Rwanda",
         "text": "",
         "type": "scatter",
         "x": [
          "2000",
          "2001",
          "2002",
          "2003",
          "2004",
          "2005",
          "2006",
          "2007",
          "2008",
          "2009",
          "2010",
          "2011",
          "2012",
          "2013",
          "2014",
          "2015",
          "2016"
         ],
         "y": [
          39000,
          65000,
          82391,
          130720,
          137271,
          222978,
          314201,
          635137,
          1322637,
          2429252,
          3548761,
          4446194,
          5690751,
          6689158,
          7747019,
          8759619,
          8921533
         ]
        },
        {
         "connectgaps": false,
         "fill": "tozeroy",
         "line": {
          "color": "red",
          "dash": "solid",
          "width": 0.5
         },
         "mode": "lines",
         "name": "Spread",
         "showlegend": false,
         "type": "scatter",
         "x": [
          "2000",
          "2001",
          "2002",
          "2003",
          "2004",
          "2005",
          "2006",
          "2007",
          "2008",
          "2009",
          "2010",
          "2011",
          "2012",
          "2013",
          "2014",
          "2015",
          "2016"
         ],
         "xaxis": "x2",
         "y": [
          "",
          "",
          "",
          "",
          "",
          "",
          "",
          "",
          "",
          "",
          "",
          "",
          "",
          "",
          "",
          "",
          ""
         ],
         "yaxis": "y2"
        },
        {
         "connectgaps": false,
         "fill": "tozeroy",
         "line": {
          "color": "green",
          "dash": "solid",
          "width": 0.5
         },
         "mode": "lines",
         "name": "Spread",
         "showlegend": false,
         "type": "scatter",
         "x": [
          "2000",
          "2001",
          "2002",
          "2003",
          "2004",
          "2005",
          "2006",
          "2007",
          "2008",
          "2009",
          "2010",
          "2011",
          "2012",
          "2013",
          "2014",
          "2015",
          "2016"
         ],
         "xaxis": "x2",
         "y": [
          104404,
          496154,
          996344,
          1063552,
          1497599,
          2784030,
          2657190,
          3131320,
          4312104,
          4024664,
          6875660,
          3024586,
          3073159,
          4172128,
          5836020,
          9777437,
          11174895
         ],
         "yaxis": "y2"
        }
       ],
       "layout": {
        "hovermode": "x",
        "legend": {
         "bgcolor": "#F5F6F9",
         "font": {
          "color": "#4D5663"
         }
        },
        "paper_bgcolor": "#F5F6F9",
        "plot_bgcolor": "#F5F6F9",
        "titlefont": {
         "color": "#4D5663"
        },
        "xaxis1": {
         "gridcolor": "#E1E5ED",
         "showgrid": true,
         "tickfont": {
          "color": "#4D5663"
         },
         "title": "",
         "titlefont": {
          "color": "#4D5663"
         },
         "zerolinecolor": "#E1E5ED"
        },
        "xaxis2": {
         "anchor": "y2",
         "gridcolor": "#E1E5ED",
         "showgrid": true,
         "showticklabels": false,
         "tickfont": {
          "color": "#4D5663"
         },
         "title": "",
         "titlefont": {
          "color": "#4D5663"
         },
         "zerolinecolor": "#E1E5ED"
        },
        "yaxis1": {
         "domain": [
          0.3,
          1
         ],
         "gridcolor": "#E1E5ED",
         "showgrid": true,
         "tickfont": {
          "color": "#4D5663"
         },
         "title": "",
         "titlefont": {
          "color": "#4D5663"
         },
         "zerolinecolor": "#E1E5ED"
        },
        "yaxis2": {
         "domain": [
          0,
          0.25
         ],
         "gridcolor": "#E1E5ED",
         "showgrid": true,
         "tickfont": {
          "color": "#4D5663"
         },
         "title": "Spread",
         "titlefont": {
          "color": "#4D5663"
         },
         "zerolinecolor": "#E1E5ED"
        }
       }
      },
      "text/html": [
       "<div id=\"dcd2af04-6c5a-43c5-8178-068209510a27\" style=\"height: 525px; width: 100%;\" class=\"plotly-graph-div\"></div><script type=\"text/javascript\">require([\"plotly\"], function(Plotly) { window.PLOTLYENV=window.PLOTLYENV || {};window.PLOTLYENV.BASE_URL=\"https://plot.ly\";Plotly.newPlot(\"dcd2af04-6c5a-43c5-8178-068209510a27\", [{\"type\": \"scatter\", \"x\": [\"2000\", \"2001\", \"2002\", \"2003\", \"2004\", \"2005\", \"2006\", \"2007\", \"2008\", \"2009\", \"2010\", \"2011\", \"2012\", \"2013\", \"2014\", \"2015\", \"2016\"], \"y\": [127404, 600000, 1187122, 1590785, 2546157, 4611970, 7340317, 11349412, 16303573, 19364559, 24968891, 28080771, 30731754, 31830003, 33632631, 37715944, 38982188], \"name\": \"Kenya\", \"text\": \"\", \"line\": {\"color\": \"rgba(255, 153, 51, 1.0)\", \"width\": 1.3, \"dash\": \"solid\"}, \"mode\": \"lines\"}, {\"type\": \"scatter\", \"x\": [\"2000\", \"2001\", \"2002\", \"2003\", \"2004\", \"2005\", \"2006\", \"2007\", \"2008\", \"2009\", \"2010\", \"2011\", \"2012\", \"2013\", \"2014\", \"2015\", \"2016\"], \"y\": [23000, 103846, 190778, 527233, 1048558, 1827940, 4683127, 8218092, 11991469, 15339895, 18093231, 25056185, 27658595, 27657875, 27796611, 27938507, 27807293], \"name\": \"Sudan\", \"text\": \"\", \"line\": {\"color\": \"rgba(55, 128, 191, 1.0)\", \"width\": 1.3, \"dash\": \"solid\"}, \"mode\": \"lines\"}, {\"type\": \"scatter\", \"x\": [\"2000\", \"2001\", \"2002\", \"2003\", \"2004\", \"2005\", \"2006\", \"2007\", \"2008\", \"2009\", \"2010\", \"2011\", \"2012\", \"2013\", \"2014\", \"2015\", \"2016\"], \"y\": [110518, 275560, 606859, 1298000, 1942000, 2964000, 5609000, 8252000, 13006793, 17469486, 20983853, 25666455, 27219283, 27442823, 31862656, 39665600, 40044186], \"name\": \"Tanzania\", \"text\": \"\", \"line\": {\"color\": \"rgba(50, 171, 96, 1.0)\", \"width\": 1.3, \"dash\": \"solid\"}, \"mode\": \"lines\"}, {\"type\": \"scatter\", \"x\": [\"2000\", \"2001\", \"2002\", \"2003\", \"2004\", \"2005\", \"2006\", \"2007\", \"2008\", \"2009\", \"2010\", \"2011\", \"2012\", \"2013\", \"2014\", \"2015\", \"2016\"], \"y\": [126913, 283520, 393310, 776169, 1165035, 1315300, 2008818, 4195278, 8554864, 9383734, 12828264, 16696992, 16356387, 18068648, 20365941, 20220273, 22838486], \"name\": \"Uganda\", \"text\": \"\", \"line\": {\"color\": \"rgba(128, 0, 128, 1.0)\", \"width\": 1.3, \"dash\": \"solid\"}, \"mode\": \"lines\"}, {\"type\": \"scatter\", \"x\": [\"2000\", \"2001\", \"2002\", \"2003\", \"2004\", \"2005\", \"2006\", \"2007\", \"2008\", \"2009\", \"2010\", \"2011\", \"2012\", \"2013\", \"2014\", \"2015\", \"2016\"], \"y\": [39000, 65000, 82391, 130720, 137271, 222978, 314201, 635137, 1322637, 2429252, 3548761, 4446194, 5690751, 6689158, 7747019, 8759619, 8921533], \"name\": \"Rwanda\", \"text\": \"\", \"line\": {\"color\": \"rgba(219, 64, 82, 1.0)\", \"width\": 1.3, \"dash\": \"solid\"}, \"mode\": \"lines\"}, {\"type\": \"scatter\", \"x\": [\"2000\", \"2001\", \"2002\", \"2003\", \"2004\", \"2005\", \"2006\", \"2007\", \"2008\", \"2009\", \"2010\", \"2011\", \"2012\", \"2013\", \"2014\", \"2015\", \"2016\"], \"y\": [\"\", \"\", \"\", \"\", \"\", \"\", \"\", \"\", \"\", \"\", \"\", \"\", \"\", \"\", \"\", \"\", \"\"], \"name\": \"Spread\", \"line\": {\"color\": \"red\", \"width\": 0.5, \"dash\": \"solid\"}, \"mode\": \"lines\", \"xaxis\": \"x2\", \"yaxis\": \"y2\", \"fill\": \"tozeroy\", \"connectgaps\": false, \"showlegend\": false}, {\"type\": \"scatter\", \"x\": [\"2000\", \"2001\", \"2002\", \"2003\", \"2004\", \"2005\", \"2006\", \"2007\", \"2008\", \"2009\", \"2010\", \"2011\", \"2012\", \"2013\", \"2014\", \"2015\", \"2016\"], \"y\": [104404, 496154, 996344, 1063552, 1497599, 2784030, 2657190, 3131320, 4312104, 4024664, 6875660, 3024586, 3073159, 4172128, 5836020, 9777437, 11174895], \"name\": \"Spread\", \"line\": {\"color\": \"green\", \"width\": 0.5, \"dash\": \"solid\"}, \"mode\": \"lines\", \"xaxis\": \"x2\", \"yaxis\": \"y2\", \"fill\": \"tozeroy\", \"connectgaps\": false, \"showlegend\": false}], {\"legend\": {\"bgcolor\": \"#F5F6F9\", \"font\": {\"color\": \"#4D5663\"}}, \"paper_bgcolor\": \"#F5F6F9\", \"plot_bgcolor\": \"#F5F6F9\", \"yaxis1\": {\"tickfont\": {\"color\": \"#4D5663\"}, \"gridcolor\": \"#E1E5ED\", \"titlefont\": {\"color\": \"#4D5663\"}, \"zerolinecolor\": \"#E1E5ED\", \"showgrid\": true, \"title\": \"\", \"domain\": [0.3, 1]}, \"xaxis1\": {\"tickfont\": {\"color\": \"#4D5663\"}, \"gridcolor\": \"#E1E5ED\", \"titlefont\": {\"color\": \"#4D5663\"}, \"zerolinecolor\": \"#E1E5ED\", \"showgrid\": true, \"title\": \"\"}, \"titlefont\": {\"color\": \"#4D5663\"}, \"yaxis2\": {\"tickfont\": {\"color\": \"#4D5663\"}, \"gridcolor\": \"#E1E5ED\", \"titlefont\": {\"color\": \"#4D5663\"}, \"zerolinecolor\": \"#E1E5ED\", \"showgrid\": true, \"title\": \"Spread\", \"domain\": [0, 0.25]}, \"xaxis2\": {\"tickfont\": {\"color\": \"#4D5663\"}, \"gridcolor\": \"#E1E5ED\", \"titlefont\": {\"color\": \"#4D5663\"}, \"zerolinecolor\": \"#E1E5ED\", \"showgrid\": true, \"title\": \"\", \"anchor\": \"y2\", \"showticklabels\": false}, \"hovermode\": \"x\"}, {\"showLink\": true, \"linkText\": \"Export to plot.ly\"})});</script>"
      ],
      "text/vnd.plotly.v1+html": [
       "<div id=\"dcd2af04-6c5a-43c5-8178-068209510a27\" style=\"height: 525px; width: 100%;\" class=\"plotly-graph-div\"></div><script type=\"text/javascript\">require([\"plotly\"], function(Plotly) { window.PLOTLYENV=window.PLOTLYENV || {};window.PLOTLYENV.BASE_URL=\"https://plot.ly\";Plotly.newPlot(\"dcd2af04-6c5a-43c5-8178-068209510a27\", [{\"type\": \"scatter\", \"x\": [\"2000\", \"2001\", \"2002\", \"2003\", \"2004\", \"2005\", \"2006\", \"2007\", \"2008\", \"2009\", \"2010\", \"2011\", \"2012\", \"2013\", \"2014\", \"2015\", \"2016\"], \"y\": [127404, 600000, 1187122, 1590785, 2546157, 4611970, 7340317, 11349412, 16303573, 19364559, 24968891, 28080771, 30731754, 31830003, 33632631, 37715944, 38982188], \"name\": \"Kenya\", \"text\": \"\", \"line\": {\"color\": \"rgba(255, 153, 51, 1.0)\", \"width\": 1.3, \"dash\": \"solid\"}, \"mode\": \"lines\"}, {\"type\": \"scatter\", \"x\": [\"2000\", \"2001\", \"2002\", \"2003\", \"2004\", \"2005\", \"2006\", \"2007\", \"2008\", \"2009\", \"2010\", \"2011\", \"2012\", \"2013\", \"2014\", \"2015\", \"2016\"], \"y\": [23000, 103846, 190778, 527233, 1048558, 1827940, 4683127, 8218092, 11991469, 15339895, 18093231, 25056185, 27658595, 27657875, 27796611, 27938507, 27807293], \"name\": \"Sudan\", \"text\": \"\", \"line\": {\"color\": \"rgba(55, 128, 191, 1.0)\", \"width\": 1.3, \"dash\": \"solid\"}, \"mode\": \"lines\"}, {\"type\": \"scatter\", \"x\": [\"2000\", \"2001\", \"2002\", \"2003\", \"2004\", \"2005\", \"2006\", \"2007\", \"2008\", \"2009\", \"2010\", \"2011\", \"2012\", \"2013\", \"2014\", \"2015\", \"2016\"], \"y\": [110518, 275560, 606859, 1298000, 1942000, 2964000, 5609000, 8252000, 13006793, 17469486, 20983853, 25666455, 27219283, 27442823, 31862656, 39665600, 40044186], \"name\": \"Tanzania\", \"text\": \"\", \"line\": {\"color\": \"rgba(50, 171, 96, 1.0)\", \"width\": 1.3, \"dash\": \"solid\"}, \"mode\": \"lines\"}, {\"type\": \"scatter\", \"x\": [\"2000\", \"2001\", \"2002\", \"2003\", \"2004\", \"2005\", \"2006\", \"2007\", \"2008\", \"2009\", \"2010\", \"2011\", \"2012\", \"2013\", \"2014\", \"2015\", \"2016\"], \"y\": [126913, 283520, 393310, 776169, 1165035, 1315300, 2008818, 4195278, 8554864, 9383734, 12828264, 16696992, 16356387, 18068648, 20365941, 20220273, 22838486], \"name\": \"Uganda\", \"text\": \"\", \"line\": {\"color\": \"rgba(128, 0, 128, 1.0)\", \"width\": 1.3, \"dash\": \"solid\"}, \"mode\": \"lines\"}, {\"type\": \"scatter\", \"x\": [\"2000\", \"2001\", \"2002\", \"2003\", \"2004\", \"2005\", \"2006\", \"2007\", \"2008\", \"2009\", \"2010\", \"2011\", \"2012\", \"2013\", \"2014\", \"2015\", \"2016\"], \"y\": [39000, 65000, 82391, 130720, 137271, 222978, 314201, 635137, 1322637, 2429252, 3548761, 4446194, 5690751, 6689158, 7747019, 8759619, 8921533], \"name\": \"Rwanda\", \"text\": \"\", \"line\": {\"color\": \"rgba(219, 64, 82, 1.0)\", \"width\": 1.3, \"dash\": \"solid\"}, \"mode\": \"lines\"}, {\"type\": \"scatter\", \"x\": [\"2000\", \"2001\", \"2002\", \"2003\", \"2004\", \"2005\", \"2006\", \"2007\", \"2008\", \"2009\", \"2010\", \"2011\", \"2012\", \"2013\", \"2014\", \"2015\", \"2016\"], \"y\": [\"\", \"\", \"\", \"\", \"\", \"\", \"\", \"\", \"\", \"\", \"\", \"\", \"\", \"\", \"\", \"\", \"\"], \"name\": \"Spread\", \"line\": {\"color\": \"red\", \"width\": 0.5, \"dash\": \"solid\"}, \"mode\": \"lines\", \"xaxis\": \"x2\", \"yaxis\": \"y2\", \"fill\": \"tozeroy\", \"connectgaps\": false, \"showlegend\": false}, {\"type\": \"scatter\", \"x\": [\"2000\", \"2001\", \"2002\", \"2003\", \"2004\", \"2005\", \"2006\", \"2007\", \"2008\", \"2009\", \"2010\", \"2011\", \"2012\", \"2013\", \"2014\", \"2015\", \"2016\"], \"y\": [104404, 496154, 996344, 1063552, 1497599, 2784030, 2657190, 3131320, 4312104, 4024664, 6875660, 3024586, 3073159, 4172128, 5836020, 9777437, 11174895], \"name\": \"Spread\", \"line\": {\"color\": \"green\", \"width\": 0.5, \"dash\": \"solid\"}, \"mode\": \"lines\", \"xaxis\": \"x2\", \"yaxis\": \"y2\", \"fill\": \"tozeroy\", \"connectgaps\": false, \"showlegend\": false}], {\"legend\": {\"bgcolor\": \"#F5F6F9\", \"font\": {\"color\": \"#4D5663\"}}, \"paper_bgcolor\": \"#F5F6F9\", \"plot_bgcolor\": \"#F5F6F9\", \"yaxis1\": {\"tickfont\": {\"color\": \"#4D5663\"}, \"gridcolor\": \"#E1E5ED\", \"titlefont\": {\"color\": \"#4D5663\"}, \"zerolinecolor\": \"#E1E5ED\", \"showgrid\": true, \"title\": \"\", \"domain\": [0.3, 1]}, \"xaxis1\": {\"tickfont\": {\"color\": \"#4D5663\"}, \"gridcolor\": \"#E1E5ED\", \"titlefont\": {\"color\": \"#4D5663\"}, \"zerolinecolor\": \"#E1E5ED\", \"showgrid\": true, \"title\": \"\"}, \"titlefont\": {\"color\": \"#4D5663\"}, \"yaxis2\": {\"tickfont\": {\"color\": \"#4D5663\"}, \"gridcolor\": \"#E1E5ED\", \"titlefont\": {\"color\": \"#4D5663\"}, \"zerolinecolor\": \"#E1E5ED\", \"showgrid\": true, \"title\": \"Spread\", \"domain\": [0, 0.25]}, \"xaxis2\": {\"tickfont\": {\"color\": \"#4D5663\"}, \"gridcolor\": \"#E1E5ED\", \"titlefont\": {\"color\": \"#4D5663\"}, \"zerolinecolor\": \"#E1E5ED\", \"showgrid\": true, \"title\": \"\", \"anchor\": \"y2\", \"showticklabels\": false}, \"hovermode\": \"x\"}, {\"showLink\": true, \"linkText\": \"Export to plot.ly\"})});</script>"
      ]
     },
     "metadata": {},
     "output_type": "display_data"
    }
   ],
   "source": [
    "df.iplot(kind='spread')"
   ]
  },
  {
   "cell_type": "markdown",
   "metadata": {},
   "source": [
    "# East Africa Cellular subscriptions per 100 inhabitants"
   ]
  },
  {
   "cell_type": "code",
   "execution_count": 27,
   "metadata": {},
   "outputs": [
    {
     "data": {
      "text/html": [
       "<div>\n",
       "<style>\n",
       "    .dataframe thead tr:only-child th {\n",
       "        text-align: right;\n",
       "    }\n",
       "\n",
       "    .dataframe thead th {\n",
       "        text-align: left;\n",
       "    }\n",
       "\n",
       "    .dataframe tbody tr th {\n",
       "        vertical-align: top;\n",
       "    }\n",
       "</style>\n",
       "<table border=\"1\" class=\"dataframe\">\n",
       "  <thead>\n",
       "    <tr style=\"text-align: right;\">\n",
       "      <th></th>\n",
       "      <th>Kenya</th>\n",
       "      <th>Sudan</th>\n",
       "      <th>Tanzania</th>\n",
       "      <th>Uganda</th>\n",
       "      <th>Rwanda</th>\n",
       "    </tr>\n",
       "    <tr>\n",
       "      <th>Year</th>\n",
       "      <th></th>\n",
       "      <th></th>\n",
       "      <th></th>\n",
       "      <th></th>\n",
       "      <th></th>\n",
       "    </tr>\n",
       "  </thead>\n",
       "  <tbody>\n",
       "    <tr>\n",
       "      <th>2000</th>\n",
       "      <td>0.41</td>\n",
       "      <td>0.07</td>\n",
       "      <td>0.32</td>\n",
       "      <td>0.52</td>\n",
       "      <td>0.46</td>\n",
       "    </tr>\n",
       "    <tr>\n",
       "      <th>2001</th>\n",
       "      <td>1.87</td>\n",
       "      <td>0.30</td>\n",
       "      <td>0.79</td>\n",
       "      <td>1.13</td>\n",
       "      <td>0.74</td>\n",
       "    </tr>\n",
       "    <tr>\n",
       "      <th>2002</th>\n",
       "      <td>3.60</td>\n",
       "      <td>0.53</td>\n",
       "      <td>1.69</td>\n",
       "      <td>1.52</td>\n",
       "      <td>0.92</td>\n",
       "    </tr>\n",
       "    <tr>\n",
       "      <th>2003</th>\n",
       "      <td>4.69</td>\n",
       "      <td>1.44</td>\n",
       "      <td>3.53</td>\n",
       "      <td>2.89</td>\n",
       "      <td>1.43</td>\n",
       "    </tr>\n",
       "    <tr>\n",
       "      <th>2004</th>\n",
       "      <td>7.31</td>\n",
       "      <td>2.80</td>\n",
       "      <td>5.14</td>\n",
       "      <td>4.20</td>\n",
       "      <td>1.48</td>\n",
       "    </tr>\n",
       "  </tbody>\n",
       "</table>\n",
       "</div>"
      ],
      "text/plain": [
       "      Kenya  Sudan  Tanzania  Uganda  Rwanda\n",
       "Year                                        \n",
       "2000   0.41   0.07      0.32    0.52    0.46\n",
       "2001   1.87   0.30      0.79    1.13    0.74\n",
       "2002   3.60   0.53      1.69    1.52    0.92\n",
       "2003   4.69   1.44      3.53    2.89    1.43\n",
       "2004   7.31   2.80      5.14    4.20    1.48"
      ]
     },
     "execution_count": 27,
     "metadata": {},
     "output_type": "execute_result"
    }
   ],
   "source": [
    "df_ph = pd.read_csv('/Users/4bic/projects/deliberate_practice/e-a_data/E-A_cellulars_per_100.csv',index_col='Year')\n",
    "df_ph.head()"
   ]
  },
  {
   "cell_type": "markdown",
   "metadata": {},
   "source": [
    "# Line Plot"
   ]
  },
  {
   "cell_type": "code",
   "execution_count": 21,
   "metadata": {},
   "outputs": [
    {
     "data": {
      "application/vnd.plotly.v1+json": {
       "data": [
        {
         "line": {
          "color": "rgba(255, 153, 51, 1.0)",
          "dash": "solid",
          "width": 1.3
         },
         "mode": "lines",
         "name": "Kenya",
         "text": "",
         "type": "scatter",
         "x": [
          2000,
          2001,
          2002,
          2003,
          2004,
          2005,
          2006,
          2007,
          2008,
          2009,
          2010,
          2011,
          2012,
          2013,
          2014,
          2015,
          2016
         ],
         "y": [
          0.41,
          1.87,
          3.6,
          4.69,
          7.31,
          12.89,
          19.97,
          30.06,
          42.05,
          48.62,
          61.03,
          66.81,
          71.17,
          71.76,
          73.84,
          80.68,
          81.28
         ]
        },
        {
         "line": {
          "color": "rgba(55, 128, 191, 1.0)",
          "dash": "solid",
          "width": 1.3
         },
         "mode": "lines",
         "name": "Sudan",
         "text": "",
         "type": "scatter",
         "x": [
          2000,
          2001,
          2002,
          2003,
          2004,
          2005,
          2006,
          2007,
          2008,
          2009,
          2010,
          2011,
          2012,
          2013,
          2014,
          2015,
          2016
         ],
         "y": [
          0.07,
          0.3,
          0.53,
          1.44,
          2.8,
          4.76,
          11.9,
          20.36,
          28.95,
          36.11,
          41.54,
          68.78,
          74.36,
          72.85,
          72.2,
          70.53,
          68.63
         ]
        },
        {
         "line": {
          "color": "rgba(50, 171, 96, 1.0)",
          "dash": "solid",
          "width": 1.3
         },
         "mode": "lines",
         "name": "Tanzania",
         "text": "",
         "type": "scatter",
         "x": [
          2000,
          2001,
          2002,
          2003,
          2004,
          2005,
          2006,
          2007,
          2008,
          2009,
          2010,
          2011,
          2012,
          2013,
          2014,
          2015,
          2016
         ],
         "y": [
          0.32,
          0.79,
          1.69,
          3.53,
          5.14,
          7.63,
          14.04,
          20.07,
          30.71,
          40.03,
          46.66,
          55.37,
          56.96,
          55.72,
          62.77,
          75.86,
          74.36
         ]
        },
        {
         "line": {
          "color": "rgba(128, 0, 128, 1.0)",
          "dash": "solid",
          "width": 1.3
         },
         "mode": "lines",
         "name": "Uganda",
         "text": "",
         "type": "scatter",
         "x": [
          2000,
          2001,
          2002,
          2003,
          2004,
          2005,
          2006,
          2007,
          2008,
          2009,
          2010,
          2011,
          2012,
          2013,
          2014,
          2015,
          2016
         ],
         "y": [
          0.52,
          1.13,
          1.52,
          2.89,
          4.2,
          4.58,
          6.76,
          13.65,
          26.92,
          28.55,
          37.74,
          47.5,
          45,
          48.08,
          52.43,
          50.37,
          55.07
         ]
        },
        {
         "line": {
          "color": "rgba(219, 64, 82, 1.0)",
          "dash": "solid",
          "width": 1.3
         },
         "mode": "lines",
         "name": "Rwanda",
         "text": "",
         "type": "scatter",
         "x": [
          2000,
          2001,
          2002,
          2003,
          2004,
          2005,
          2006,
          2007,
          2008,
          2009,
          2010,
          2011,
          2012,
          2013,
          2014,
          2015,
          2016
         ],
         "y": [
          0.46,
          0.74,
          0.92,
          1.43,
          1.48,
          2.36,
          3.25,
          6.4,
          12.94,
          23.07,
          32.75,
          39.9,
          49.67,
          56.8,
          64.02,
          70.48,
          69.92
         ]
        }
       ],
       "layout": {
        "legend": {
         "bgcolor": "#F5F6F9",
         "font": {
          "color": "#4D5663"
         }
        },
        "paper_bgcolor": "#F5F6F9",
        "plot_bgcolor": "#F5F6F9",
        "titlefont": {
         "color": "#4D5663"
        },
        "xaxis1": {
         "gridcolor": "#E1E5ED",
         "showgrid": true,
         "tickfont": {
          "color": "#4D5663"
         },
         "title": "",
         "titlefont": {
          "color": "#4D5663"
         },
         "zerolinecolor": "#E1E5ED"
        },
        "yaxis1": {
         "gridcolor": "#E1E5ED",
         "showgrid": true,
         "tickfont": {
          "color": "#4D5663"
         },
         "title": "",
         "titlefont": {
          "color": "#4D5663"
         },
         "zerolinecolor": "#E1E5ED"
        }
       }
      },
      "text/html": [
       "<div id=\"d218f070-3aee-4fea-a12b-5f5547d75060\" style=\"height: 525px; width: 100%;\" class=\"plotly-graph-div\"></div><script type=\"text/javascript\">require([\"plotly\"], function(Plotly) { window.PLOTLYENV=window.PLOTLYENV || {};window.PLOTLYENV.BASE_URL=\"https://plot.ly\";Plotly.newPlot(\"d218f070-3aee-4fea-a12b-5f5547d75060\", [{\"type\": \"scatter\", \"x\": [2000, 2001, 2002, 2003, 2004, 2005, 2006, 2007, 2008, 2009, 2010, 2011, 2012, 2013, 2014, 2015, 2016], \"y\": [0.41, 1.87, 3.6, 4.69, 7.31, 12.89, 19.97, 30.06, 42.05, 48.62, 61.03, 66.81, 71.17, 71.76, 73.84, 80.68, 81.28], \"name\": \"Kenya\", \"text\": \"\", \"line\": {\"color\": \"rgba(255, 153, 51, 1.0)\", \"width\": 1.3, \"dash\": \"solid\"}, \"mode\": \"lines\"}, {\"type\": \"scatter\", \"x\": [2000, 2001, 2002, 2003, 2004, 2005, 2006, 2007, 2008, 2009, 2010, 2011, 2012, 2013, 2014, 2015, 2016], \"y\": [0.07, 0.3, 0.53, 1.44, 2.8, 4.76, 11.9, 20.36, 28.95, 36.11, 41.54, 68.78, 74.36, 72.85, 72.2, 70.53, 68.63], \"name\": \"Sudan\", \"text\": \"\", \"line\": {\"color\": \"rgba(55, 128, 191, 1.0)\", \"width\": 1.3, \"dash\": \"solid\"}, \"mode\": \"lines\"}, {\"type\": \"scatter\", \"x\": [2000, 2001, 2002, 2003, 2004, 2005, 2006, 2007, 2008, 2009, 2010, 2011, 2012, 2013, 2014, 2015, 2016], \"y\": [0.32, 0.79, 1.69, 3.53, 5.14, 7.63, 14.04, 20.07, 30.71, 40.03, 46.66, 55.37, 56.96, 55.72, 62.77, 75.86, 74.36], \"name\": \"Tanzania\", \"text\": \"\", \"line\": {\"color\": \"rgba(50, 171, 96, 1.0)\", \"width\": 1.3, \"dash\": \"solid\"}, \"mode\": \"lines\"}, {\"type\": \"scatter\", \"x\": [2000, 2001, 2002, 2003, 2004, 2005, 2006, 2007, 2008, 2009, 2010, 2011, 2012, 2013, 2014, 2015, 2016], \"y\": [0.52, 1.13, 1.52, 2.89, 4.2, 4.58, 6.76, 13.65, 26.92, 28.55, 37.74, 47.5, 45.0, 48.08, 52.43, 50.37, 55.07], \"name\": \"Uganda\", \"text\": \"\", \"line\": {\"color\": \"rgba(128, 0, 128, 1.0)\", \"width\": 1.3, \"dash\": \"solid\"}, \"mode\": \"lines\"}, {\"type\": \"scatter\", \"x\": [2000, 2001, 2002, 2003, 2004, 2005, 2006, 2007, 2008, 2009, 2010, 2011, 2012, 2013, 2014, 2015, 2016], \"y\": [0.46, 0.74, 0.92, 1.43, 1.48, 2.36, 3.25, 6.4, 12.94, 23.07, 32.75, 39.9, 49.67, 56.8, 64.02, 70.48, 69.92], \"name\": \"Rwanda\", \"text\": \"\", \"line\": {\"color\": \"rgba(219, 64, 82, 1.0)\", \"width\": 1.3, \"dash\": \"solid\"}, \"mode\": \"lines\"}], {\"legend\": {\"bgcolor\": \"#F5F6F9\", \"font\": {\"color\": \"#4D5663\"}}, \"paper_bgcolor\": \"#F5F6F9\", \"plot_bgcolor\": \"#F5F6F9\", \"yaxis1\": {\"tickfont\": {\"color\": \"#4D5663\"}, \"gridcolor\": \"#E1E5ED\", \"titlefont\": {\"color\": \"#4D5663\"}, \"zerolinecolor\": \"#E1E5ED\", \"showgrid\": true, \"title\": \"\"}, \"xaxis1\": {\"tickfont\": {\"color\": \"#4D5663\"}, \"gridcolor\": \"#E1E5ED\", \"titlefont\": {\"color\": \"#4D5663\"}, \"zerolinecolor\": \"#E1E5ED\", \"showgrid\": true, \"title\": \"\"}, \"titlefont\": {\"color\": \"#4D5663\"}}, {\"showLink\": true, \"linkText\": \"Export to plot.ly\"})});</script>"
      ],
      "text/vnd.plotly.v1+html": [
       "<div id=\"d218f070-3aee-4fea-a12b-5f5547d75060\" style=\"height: 525px; width: 100%;\" class=\"plotly-graph-div\"></div><script type=\"text/javascript\">require([\"plotly\"], function(Plotly) { window.PLOTLYENV=window.PLOTLYENV || {};window.PLOTLYENV.BASE_URL=\"https://plot.ly\";Plotly.newPlot(\"d218f070-3aee-4fea-a12b-5f5547d75060\", [{\"type\": \"scatter\", \"x\": [2000, 2001, 2002, 2003, 2004, 2005, 2006, 2007, 2008, 2009, 2010, 2011, 2012, 2013, 2014, 2015, 2016], \"y\": [0.41, 1.87, 3.6, 4.69, 7.31, 12.89, 19.97, 30.06, 42.05, 48.62, 61.03, 66.81, 71.17, 71.76, 73.84, 80.68, 81.28], \"name\": \"Kenya\", \"text\": \"\", \"line\": {\"color\": \"rgba(255, 153, 51, 1.0)\", \"width\": 1.3, \"dash\": \"solid\"}, \"mode\": \"lines\"}, {\"type\": \"scatter\", \"x\": [2000, 2001, 2002, 2003, 2004, 2005, 2006, 2007, 2008, 2009, 2010, 2011, 2012, 2013, 2014, 2015, 2016], \"y\": [0.07, 0.3, 0.53, 1.44, 2.8, 4.76, 11.9, 20.36, 28.95, 36.11, 41.54, 68.78, 74.36, 72.85, 72.2, 70.53, 68.63], \"name\": \"Sudan\", \"text\": \"\", \"line\": {\"color\": \"rgba(55, 128, 191, 1.0)\", \"width\": 1.3, \"dash\": \"solid\"}, \"mode\": \"lines\"}, {\"type\": \"scatter\", \"x\": [2000, 2001, 2002, 2003, 2004, 2005, 2006, 2007, 2008, 2009, 2010, 2011, 2012, 2013, 2014, 2015, 2016], \"y\": [0.32, 0.79, 1.69, 3.53, 5.14, 7.63, 14.04, 20.07, 30.71, 40.03, 46.66, 55.37, 56.96, 55.72, 62.77, 75.86, 74.36], \"name\": \"Tanzania\", \"text\": \"\", \"line\": {\"color\": \"rgba(50, 171, 96, 1.0)\", \"width\": 1.3, \"dash\": \"solid\"}, \"mode\": \"lines\"}, {\"type\": \"scatter\", \"x\": [2000, 2001, 2002, 2003, 2004, 2005, 2006, 2007, 2008, 2009, 2010, 2011, 2012, 2013, 2014, 2015, 2016], \"y\": [0.52, 1.13, 1.52, 2.89, 4.2, 4.58, 6.76, 13.65, 26.92, 28.55, 37.74, 47.5, 45.0, 48.08, 52.43, 50.37, 55.07], \"name\": \"Uganda\", \"text\": \"\", \"line\": {\"color\": \"rgba(128, 0, 128, 1.0)\", \"width\": 1.3, \"dash\": \"solid\"}, \"mode\": \"lines\"}, {\"type\": \"scatter\", \"x\": [2000, 2001, 2002, 2003, 2004, 2005, 2006, 2007, 2008, 2009, 2010, 2011, 2012, 2013, 2014, 2015, 2016], \"y\": [0.46, 0.74, 0.92, 1.43, 1.48, 2.36, 3.25, 6.4, 12.94, 23.07, 32.75, 39.9, 49.67, 56.8, 64.02, 70.48, 69.92], \"name\": \"Rwanda\", \"text\": \"\", \"line\": {\"color\": \"rgba(219, 64, 82, 1.0)\", \"width\": 1.3, \"dash\": \"solid\"}, \"mode\": \"lines\"}], {\"legend\": {\"bgcolor\": \"#F5F6F9\", \"font\": {\"color\": \"#4D5663\"}}, \"paper_bgcolor\": \"#F5F6F9\", \"plot_bgcolor\": \"#F5F6F9\", \"yaxis1\": {\"tickfont\": {\"color\": \"#4D5663\"}, \"gridcolor\": \"#E1E5ED\", \"titlefont\": {\"color\": \"#4D5663\"}, \"zerolinecolor\": \"#E1E5ED\", \"showgrid\": true, \"title\": \"\"}, \"xaxis1\": {\"tickfont\": {\"color\": \"#4D5663\"}, \"gridcolor\": \"#E1E5ED\", \"titlefont\": {\"color\": \"#4D5663\"}, \"zerolinecolor\": \"#E1E5ED\", \"showgrid\": true, \"title\": \"\"}, \"titlefont\": {\"color\": \"#4D5663\"}}, {\"showLink\": true, \"linkText\": \"Export to plot.ly\"})});</script>"
      ]
     },
     "metadata": {},
     "output_type": "display_data"
    }
   ],
   "source": [
    "df_ph.iplot()"
   ]
  },
  {
   "cell_type": "markdown",
   "metadata": {
    "collapsed": true
   },
   "source": [
    "# Spread"
   ]
  },
  {
   "cell_type": "code",
   "execution_count": 22,
   "metadata": {},
   "outputs": [
    {
     "data": {
      "application/vnd.plotly.v1+json": {
       "data": [
        {
         "line": {
          "color": "rgba(255, 153, 51, 1.0)",
          "dash": "solid",
          "width": 1.3
         },
         "mode": "lines",
         "name": "Kenya",
         "text": "",
         "type": "scatter",
         "x": [
          2000,
          2001,
          2002,
          2003,
          2004,
          2005,
          2006,
          2007,
          2008,
          2009,
          2010,
          2011,
          2012,
          2013,
          2014,
          2015,
          2016
         ],
         "y": [
          0.41,
          1.87,
          3.6,
          4.69,
          7.31,
          12.89,
          19.97,
          30.06,
          42.05,
          48.62,
          61.03,
          66.81,
          71.17,
          71.76,
          73.84,
          80.68,
          81.28
         ]
        },
        {
         "line": {
          "color": "rgba(55, 128, 191, 1.0)",
          "dash": "solid",
          "width": 1.3
         },
         "mode": "lines",
         "name": "Sudan",
         "text": "",
         "type": "scatter",
         "x": [
          2000,
          2001,
          2002,
          2003,
          2004,
          2005,
          2006,
          2007,
          2008,
          2009,
          2010,
          2011,
          2012,
          2013,
          2014,
          2015,
          2016
         ],
         "y": [
          0.07,
          0.3,
          0.53,
          1.44,
          2.8,
          4.76,
          11.9,
          20.36,
          28.95,
          36.11,
          41.54,
          68.78,
          74.36,
          72.85,
          72.2,
          70.53,
          68.63
         ]
        },
        {
         "line": {
          "color": "rgba(50, 171, 96, 1.0)",
          "dash": "solid",
          "width": 1.3
         },
         "mode": "lines",
         "name": "Tanzania",
         "text": "",
         "type": "scatter",
         "x": [
          2000,
          2001,
          2002,
          2003,
          2004,
          2005,
          2006,
          2007,
          2008,
          2009,
          2010,
          2011,
          2012,
          2013,
          2014,
          2015,
          2016
         ],
         "y": [
          0.32,
          0.79,
          1.69,
          3.53,
          5.14,
          7.63,
          14.04,
          20.07,
          30.71,
          40.03,
          46.66,
          55.37,
          56.96,
          55.72,
          62.77,
          75.86,
          74.36
         ]
        },
        {
         "line": {
          "color": "rgba(128, 0, 128, 1.0)",
          "dash": "solid",
          "width": 1.3
         },
         "mode": "lines",
         "name": "Uganda",
         "text": "",
         "type": "scatter",
         "x": [
          2000,
          2001,
          2002,
          2003,
          2004,
          2005,
          2006,
          2007,
          2008,
          2009,
          2010,
          2011,
          2012,
          2013,
          2014,
          2015,
          2016
         ],
         "y": [
          0.52,
          1.13,
          1.52,
          2.89,
          4.2,
          4.58,
          6.76,
          13.65,
          26.92,
          28.55,
          37.74,
          47.5,
          45,
          48.08,
          52.43,
          50.37,
          55.07
         ]
        },
        {
         "line": {
          "color": "rgba(219, 64, 82, 1.0)",
          "dash": "solid",
          "width": 1.3
         },
         "mode": "lines",
         "name": "Rwanda",
         "text": "",
         "type": "scatter",
         "x": [
          2000,
          2001,
          2002,
          2003,
          2004,
          2005,
          2006,
          2007,
          2008,
          2009,
          2010,
          2011,
          2012,
          2013,
          2014,
          2015,
          2016
         ],
         "y": [
          0.46,
          0.74,
          0.92,
          1.43,
          1.48,
          2.36,
          3.25,
          6.4,
          12.94,
          23.07,
          32.75,
          39.9,
          49.67,
          56.8,
          64.02,
          70.48,
          69.92
         ]
        },
        {
         "connectgaps": false,
         "fill": "tozeroy",
         "line": {
          "color": "red",
          "dash": "solid",
          "width": 0.5
         },
         "mode": "lines",
         "name": "Spread",
         "showlegend": false,
         "type": "scatter",
         "x": [
          2000,
          2001,
          2002,
          2003,
          2004,
          2005,
          2006,
          2007,
          2008,
          2009,
          2010,
          2011,
          2012,
          2013,
          2014,
          2015,
          2016
         ],
         "xaxis": "x2",
         "y": [
          "",
          "",
          "",
          "",
          "",
          "",
          "",
          "",
          "",
          "",
          "",
          -1.9699999999999989,
          -3.1899999999999977,
          -1.0899999999999892,
          "",
          "",
          ""
         ],
         "yaxis": "y2"
        },
        {
         "connectgaps": false,
         "fill": "tozeroy",
         "line": {
          "color": "green",
          "dash": "solid",
          "width": 0.5
         },
         "mode": "lines",
         "name": "Spread",
         "showlegend": false,
         "type": "scatter",
         "x": [
          2000,
          2001,
          2002,
          2003,
          2004,
          2005,
          2006,
          2007,
          2008,
          2009,
          2010,
          2011,
          2012,
          2013,
          2014,
          2015,
          2016
         ],
         "xaxis": "x2",
         "y": [
          0.33999999999999997,
          1.57,
          3.0700000000000003,
          3.2500000000000004,
          4.51,
          8.13,
          8.069999999999999,
          9.7,
          13.099999999999998,
          12.509999999999998,
          19.490000000000002,
          "",
          "",
          "",
          1.6400000000000006,
          10.150000000000006,
          12.650000000000006
         ],
         "yaxis": "y2"
        }
       ],
       "layout": {
        "hovermode": "x",
        "legend": {
         "bgcolor": "#F5F6F9",
         "font": {
          "color": "#4D5663"
         }
        },
        "paper_bgcolor": "#F5F6F9",
        "plot_bgcolor": "#F5F6F9",
        "titlefont": {
         "color": "#4D5663"
        },
        "xaxis1": {
         "gridcolor": "#E1E5ED",
         "showgrid": true,
         "tickfont": {
          "color": "#4D5663"
         },
         "title": "",
         "titlefont": {
          "color": "#4D5663"
         },
         "zerolinecolor": "#E1E5ED"
        },
        "xaxis2": {
         "anchor": "y2",
         "gridcolor": "#E1E5ED",
         "showgrid": true,
         "showticklabels": false,
         "tickfont": {
          "color": "#4D5663"
         },
         "title": "",
         "titlefont": {
          "color": "#4D5663"
         },
         "zerolinecolor": "#E1E5ED"
        },
        "yaxis1": {
         "domain": [
          0.3,
          1
         ],
         "gridcolor": "#E1E5ED",
         "showgrid": true,
         "tickfont": {
          "color": "#4D5663"
         },
         "title": "",
         "titlefont": {
          "color": "#4D5663"
         },
         "zerolinecolor": "#E1E5ED"
        },
        "yaxis2": {
         "domain": [
          0,
          0.25
         ],
         "gridcolor": "#E1E5ED",
         "showgrid": true,
         "tickfont": {
          "color": "#4D5663"
         },
         "title": "Spread",
         "titlefont": {
          "color": "#4D5663"
         },
         "zerolinecolor": "#E1E5ED"
        }
       }
      },
      "text/html": [
       "<div id=\"58a3dbf1-0c40-40b5-9059-098bc7fd0a97\" style=\"height: 525px; width: 100%;\" class=\"plotly-graph-div\"></div><script type=\"text/javascript\">require([\"plotly\"], function(Plotly) { window.PLOTLYENV=window.PLOTLYENV || {};window.PLOTLYENV.BASE_URL=\"https://plot.ly\";Plotly.newPlot(\"58a3dbf1-0c40-40b5-9059-098bc7fd0a97\", [{\"type\": \"scatter\", \"x\": [2000, 2001, 2002, 2003, 2004, 2005, 2006, 2007, 2008, 2009, 2010, 2011, 2012, 2013, 2014, 2015, 2016], \"y\": [0.41, 1.87, 3.6, 4.69, 7.31, 12.89, 19.97, 30.06, 42.05, 48.62, 61.03, 66.81, 71.17, 71.76, 73.84, 80.68, 81.28], \"name\": \"Kenya\", \"text\": \"\", \"line\": {\"color\": \"rgba(255, 153, 51, 1.0)\", \"width\": 1.3, \"dash\": \"solid\"}, \"mode\": \"lines\"}, {\"type\": \"scatter\", \"x\": [2000, 2001, 2002, 2003, 2004, 2005, 2006, 2007, 2008, 2009, 2010, 2011, 2012, 2013, 2014, 2015, 2016], \"y\": [0.07, 0.3, 0.53, 1.44, 2.8, 4.76, 11.9, 20.36, 28.95, 36.11, 41.54, 68.78, 74.36, 72.85, 72.2, 70.53, 68.63], \"name\": \"Sudan\", \"text\": \"\", \"line\": {\"color\": \"rgba(55, 128, 191, 1.0)\", \"width\": 1.3, \"dash\": \"solid\"}, \"mode\": \"lines\"}, {\"type\": \"scatter\", \"x\": [2000, 2001, 2002, 2003, 2004, 2005, 2006, 2007, 2008, 2009, 2010, 2011, 2012, 2013, 2014, 2015, 2016], \"y\": [0.32, 0.79, 1.69, 3.53, 5.14, 7.63, 14.04, 20.07, 30.71, 40.03, 46.66, 55.37, 56.96, 55.72, 62.77, 75.86, 74.36], \"name\": \"Tanzania\", \"text\": \"\", \"line\": {\"color\": \"rgba(50, 171, 96, 1.0)\", \"width\": 1.3, \"dash\": \"solid\"}, \"mode\": \"lines\"}, {\"type\": \"scatter\", \"x\": [2000, 2001, 2002, 2003, 2004, 2005, 2006, 2007, 2008, 2009, 2010, 2011, 2012, 2013, 2014, 2015, 2016], \"y\": [0.52, 1.13, 1.52, 2.89, 4.2, 4.58, 6.76, 13.65, 26.92, 28.55, 37.74, 47.5, 45.0, 48.08, 52.43, 50.37, 55.07], \"name\": \"Uganda\", \"text\": \"\", \"line\": {\"color\": \"rgba(128, 0, 128, 1.0)\", \"width\": 1.3, \"dash\": \"solid\"}, \"mode\": \"lines\"}, {\"type\": \"scatter\", \"x\": [2000, 2001, 2002, 2003, 2004, 2005, 2006, 2007, 2008, 2009, 2010, 2011, 2012, 2013, 2014, 2015, 2016], \"y\": [0.46, 0.74, 0.92, 1.43, 1.48, 2.36, 3.25, 6.4, 12.94, 23.07, 32.75, 39.9, 49.67, 56.8, 64.02, 70.48, 69.92], \"name\": \"Rwanda\", \"text\": \"\", \"line\": {\"color\": \"rgba(219, 64, 82, 1.0)\", \"width\": 1.3, \"dash\": \"solid\"}, \"mode\": \"lines\"}, {\"type\": \"scatter\", \"x\": [2000, 2001, 2002, 2003, 2004, 2005, 2006, 2007, 2008, 2009, 2010, 2011, 2012, 2013, 2014, 2015, 2016], \"y\": [\"\", \"\", \"\", \"\", \"\", \"\", \"\", \"\", \"\", \"\", \"\", -1.9699999999999989, -3.1899999999999977, -1.0899999999999892, \"\", \"\", \"\"], \"name\": \"Spread\", \"line\": {\"color\": \"red\", \"width\": 0.5, \"dash\": \"solid\"}, \"mode\": \"lines\", \"xaxis\": \"x2\", \"yaxis\": \"y2\", \"fill\": \"tozeroy\", \"connectgaps\": false, \"showlegend\": false}, {\"type\": \"scatter\", \"x\": [2000, 2001, 2002, 2003, 2004, 2005, 2006, 2007, 2008, 2009, 2010, 2011, 2012, 2013, 2014, 2015, 2016], \"y\": [0.33999999999999997, 1.57, 3.0700000000000003, 3.2500000000000004, 4.51, 8.13, 8.069999999999999, 9.7, 13.099999999999998, 12.509999999999998, 19.490000000000002, \"\", \"\", \"\", 1.6400000000000006, 10.150000000000006, 12.650000000000006], \"name\": \"Spread\", \"line\": {\"color\": \"green\", \"width\": 0.5, \"dash\": \"solid\"}, \"mode\": \"lines\", \"xaxis\": \"x2\", \"yaxis\": \"y2\", \"fill\": \"tozeroy\", \"connectgaps\": false, \"showlegend\": false}], {\"legend\": {\"bgcolor\": \"#F5F6F9\", \"font\": {\"color\": \"#4D5663\"}}, \"paper_bgcolor\": \"#F5F6F9\", \"plot_bgcolor\": \"#F5F6F9\", \"yaxis1\": {\"tickfont\": {\"color\": \"#4D5663\"}, \"gridcolor\": \"#E1E5ED\", \"titlefont\": {\"color\": \"#4D5663\"}, \"zerolinecolor\": \"#E1E5ED\", \"showgrid\": true, \"title\": \"\", \"domain\": [0.3, 1]}, \"xaxis1\": {\"tickfont\": {\"color\": \"#4D5663\"}, \"gridcolor\": \"#E1E5ED\", \"titlefont\": {\"color\": \"#4D5663\"}, \"zerolinecolor\": \"#E1E5ED\", \"showgrid\": true, \"title\": \"\"}, \"titlefont\": {\"color\": \"#4D5663\"}, \"yaxis2\": {\"tickfont\": {\"color\": \"#4D5663\"}, \"gridcolor\": \"#E1E5ED\", \"titlefont\": {\"color\": \"#4D5663\"}, \"zerolinecolor\": \"#E1E5ED\", \"showgrid\": true, \"title\": \"Spread\", \"domain\": [0, 0.25]}, \"xaxis2\": {\"tickfont\": {\"color\": \"#4D5663\"}, \"gridcolor\": \"#E1E5ED\", \"titlefont\": {\"color\": \"#4D5663\"}, \"zerolinecolor\": \"#E1E5ED\", \"showgrid\": true, \"title\": \"\", \"anchor\": \"y2\", \"showticklabels\": false}, \"hovermode\": \"x\"}, {\"showLink\": true, \"linkText\": \"Export to plot.ly\"})});</script>"
      ],
      "text/vnd.plotly.v1+html": [
       "<div id=\"58a3dbf1-0c40-40b5-9059-098bc7fd0a97\" style=\"height: 525px; width: 100%;\" class=\"plotly-graph-div\"></div><script type=\"text/javascript\">require([\"plotly\"], function(Plotly) { window.PLOTLYENV=window.PLOTLYENV || {};window.PLOTLYENV.BASE_URL=\"https://plot.ly\";Plotly.newPlot(\"58a3dbf1-0c40-40b5-9059-098bc7fd0a97\", [{\"type\": \"scatter\", \"x\": [2000, 2001, 2002, 2003, 2004, 2005, 2006, 2007, 2008, 2009, 2010, 2011, 2012, 2013, 2014, 2015, 2016], \"y\": [0.41, 1.87, 3.6, 4.69, 7.31, 12.89, 19.97, 30.06, 42.05, 48.62, 61.03, 66.81, 71.17, 71.76, 73.84, 80.68, 81.28], \"name\": \"Kenya\", \"text\": \"\", \"line\": {\"color\": \"rgba(255, 153, 51, 1.0)\", \"width\": 1.3, \"dash\": \"solid\"}, \"mode\": \"lines\"}, {\"type\": \"scatter\", \"x\": [2000, 2001, 2002, 2003, 2004, 2005, 2006, 2007, 2008, 2009, 2010, 2011, 2012, 2013, 2014, 2015, 2016], \"y\": [0.07, 0.3, 0.53, 1.44, 2.8, 4.76, 11.9, 20.36, 28.95, 36.11, 41.54, 68.78, 74.36, 72.85, 72.2, 70.53, 68.63], \"name\": \"Sudan\", \"text\": \"\", \"line\": {\"color\": \"rgba(55, 128, 191, 1.0)\", \"width\": 1.3, \"dash\": \"solid\"}, \"mode\": \"lines\"}, {\"type\": \"scatter\", \"x\": [2000, 2001, 2002, 2003, 2004, 2005, 2006, 2007, 2008, 2009, 2010, 2011, 2012, 2013, 2014, 2015, 2016], \"y\": [0.32, 0.79, 1.69, 3.53, 5.14, 7.63, 14.04, 20.07, 30.71, 40.03, 46.66, 55.37, 56.96, 55.72, 62.77, 75.86, 74.36], \"name\": \"Tanzania\", \"text\": \"\", \"line\": {\"color\": \"rgba(50, 171, 96, 1.0)\", \"width\": 1.3, \"dash\": \"solid\"}, \"mode\": \"lines\"}, {\"type\": \"scatter\", \"x\": [2000, 2001, 2002, 2003, 2004, 2005, 2006, 2007, 2008, 2009, 2010, 2011, 2012, 2013, 2014, 2015, 2016], \"y\": [0.52, 1.13, 1.52, 2.89, 4.2, 4.58, 6.76, 13.65, 26.92, 28.55, 37.74, 47.5, 45.0, 48.08, 52.43, 50.37, 55.07], \"name\": \"Uganda\", \"text\": \"\", \"line\": {\"color\": \"rgba(128, 0, 128, 1.0)\", \"width\": 1.3, \"dash\": \"solid\"}, \"mode\": \"lines\"}, {\"type\": \"scatter\", \"x\": [2000, 2001, 2002, 2003, 2004, 2005, 2006, 2007, 2008, 2009, 2010, 2011, 2012, 2013, 2014, 2015, 2016], \"y\": [0.46, 0.74, 0.92, 1.43, 1.48, 2.36, 3.25, 6.4, 12.94, 23.07, 32.75, 39.9, 49.67, 56.8, 64.02, 70.48, 69.92], \"name\": \"Rwanda\", \"text\": \"\", \"line\": {\"color\": \"rgba(219, 64, 82, 1.0)\", \"width\": 1.3, \"dash\": \"solid\"}, \"mode\": \"lines\"}, {\"type\": \"scatter\", \"x\": [2000, 2001, 2002, 2003, 2004, 2005, 2006, 2007, 2008, 2009, 2010, 2011, 2012, 2013, 2014, 2015, 2016], \"y\": [\"\", \"\", \"\", \"\", \"\", \"\", \"\", \"\", \"\", \"\", \"\", -1.9699999999999989, -3.1899999999999977, -1.0899999999999892, \"\", \"\", \"\"], \"name\": \"Spread\", \"line\": {\"color\": \"red\", \"width\": 0.5, \"dash\": \"solid\"}, \"mode\": \"lines\", \"xaxis\": \"x2\", \"yaxis\": \"y2\", \"fill\": \"tozeroy\", \"connectgaps\": false, \"showlegend\": false}, {\"type\": \"scatter\", \"x\": [2000, 2001, 2002, 2003, 2004, 2005, 2006, 2007, 2008, 2009, 2010, 2011, 2012, 2013, 2014, 2015, 2016], \"y\": [0.33999999999999997, 1.57, 3.0700000000000003, 3.2500000000000004, 4.51, 8.13, 8.069999999999999, 9.7, 13.099999999999998, 12.509999999999998, 19.490000000000002, \"\", \"\", \"\", 1.6400000000000006, 10.150000000000006, 12.650000000000006], \"name\": \"Spread\", \"line\": {\"color\": \"green\", \"width\": 0.5, \"dash\": \"solid\"}, \"mode\": \"lines\", \"xaxis\": \"x2\", \"yaxis\": \"y2\", \"fill\": \"tozeroy\", \"connectgaps\": false, \"showlegend\": false}], {\"legend\": {\"bgcolor\": \"#F5F6F9\", \"font\": {\"color\": \"#4D5663\"}}, \"paper_bgcolor\": \"#F5F6F9\", \"plot_bgcolor\": \"#F5F6F9\", \"yaxis1\": {\"tickfont\": {\"color\": \"#4D5663\"}, \"gridcolor\": \"#E1E5ED\", \"titlefont\": {\"color\": \"#4D5663\"}, \"zerolinecolor\": \"#E1E5ED\", \"showgrid\": true, \"title\": \"\", \"domain\": [0.3, 1]}, \"xaxis1\": {\"tickfont\": {\"color\": \"#4D5663\"}, \"gridcolor\": \"#E1E5ED\", \"titlefont\": {\"color\": \"#4D5663\"}, \"zerolinecolor\": \"#E1E5ED\", \"showgrid\": true, \"title\": \"\"}, \"titlefont\": {\"color\": \"#4D5663\"}, \"yaxis2\": {\"tickfont\": {\"color\": \"#4D5663\"}, \"gridcolor\": \"#E1E5ED\", \"titlefont\": {\"color\": \"#4D5663\"}, \"zerolinecolor\": \"#E1E5ED\", \"showgrid\": true, \"title\": \"Spread\", \"domain\": [0, 0.25]}, \"xaxis2\": {\"tickfont\": {\"color\": \"#4D5663\"}, \"gridcolor\": \"#E1E5ED\", \"titlefont\": {\"color\": \"#4D5663\"}, \"zerolinecolor\": \"#E1E5ED\", \"showgrid\": true, \"title\": \"\", \"anchor\": \"y2\", \"showticklabels\": false}, \"hovermode\": \"x\"}, {\"showLink\": true, \"linkText\": \"Export to plot.ly\"})});</script>"
      ]
     },
     "metadata": {},
     "output_type": "display_data"
    }
   ],
   "source": [
    "df_ph.iplot(kind='spread')"
   ]
  },
  {
   "cell_type": "code",
   "execution_count": null,
   "metadata": {
    "collapsed": true
   },
   "outputs": [],
   "source": []
  }
 ],
 "metadata": {
  "kernelspec": {
   "display_name": "Python 3",
   "language": "python",
   "name": "python3"
  },
  "language_info": {
   "codemirror_mode": {
    "name": "ipython",
    "version": 3
   },
   "file_extension": ".py",
   "mimetype": "text/x-python",
   "name": "python",
   "nbconvert_exporter": "python",
   "pygments_lexer": "ipython3",
   "version": "3.6.3"
  }
 },
 "nbformat": 4,
 "nbformat_minor": 2
}
