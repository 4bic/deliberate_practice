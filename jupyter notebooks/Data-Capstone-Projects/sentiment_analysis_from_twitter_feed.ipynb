{
 "cells": [
  {
   "cell_type": "markdown",
   "metadata": {},
   "source": [
    "## Twitter mood on my timeline"
   ]
  },
  {
   "cell_type": "code",
   "execution_count": 10,
   "metadata": {
    "collapsed": true
   },
   "outputs": [],
   "source": [
    "import tweepy\n",
    "import pandas as pd\n",
    "from textblob import TextBlob\n",
    "from textblob.sentiments import NaiveBayesAnalyzer"
   ]
  },
  {
   "cell_type": "code",
   "execution_count": 11,
   "metadata": {
    "collapsed": true
   },
   "outputs": [],
   "source": [
    "#Get your Twitter API credentials \n",
    "consumer_key = \"EdpKxwaq3Y0cZ0ttXjsdW5TzT\"\n",
    "consumer_secret = \"3IRzTJvtDFAZW5oPDsUafJkB2GhOT6ShZyyjYJUxzQojEZxwSu\"\n",
    "access_key = \"195372430-VvsZTlhO5wrpsQXG7FoAQlGPoFvwNIkLmAEFrGKE\"\n",
    "access_secret = \"417b2ejFTHoKCthGnTzfUgdKUOmhA3fnNVX2RMya13rWO\"\n",
    "# create authentication object\n",
    "auth = tweepy.OAuthHandler(consumer_key, consumer_secret)\n",
    "# set access token and secret\n",
    "auth.set_access_token(access_key, access_secret)\n",
    "# create API object\n",
    "api = tweepy.API(auth)"
   ]
  },
  {
   "cell_type": "code",
   "execution_count": null,
   "metadata": {
    "scrolled": false
   },
   "outputs": [],
   "source": [
    "tweets = api.home_timeline(count=200)\n",
    "pos_count = 0\n",
    "neg_count = 0\n",
    "\n",
    "for tweet in tweets:\n",
    "#     return (tweet.created_at, tweet.text)\n",
    "    opinion = TextBlob(tweet.text,analyzer=NaiveBayesAnalyzer())\n",
    "    if opinion.sentiment.classification == 'pos':\n",
    "        pos_count += 1\n",
    "    else:\n",
    "        neg_count += 1\n",
    "print('Positive Tweets :',pos_count)\n",
    "print('Negative Tweets :',neg_count)\n",
    "\n",
    "if pos_count > neg_count:\n",
    "    print('You have happy timeline')\n",
    "elif pos_count < neg_count:\n",
    "    print ('You have a Negative timeline')\n",
    "else:\n",
    "    print('Your timeline is neutral')\n",
    "            "
   ]
  }
 ],
 "metadata": {
  "kernelspec": {
   "display_name": "Python 3",
   "language": "python",
   "name": "python3"
  },
  "language_info": {
   "codemirror_mode": {
    "name": "ipython",
    "version": 3
   },
   "file_extension": ".py",
   "mimetype": "text/x-python",
   "name": "python",
   "nbconvert_exporter": "python",
   "pygments_lexer": "ipython3",
   "version": "3.6.3"
  }
 },
 "nbformat": 4,
 "nbformat_minor": 2
}
